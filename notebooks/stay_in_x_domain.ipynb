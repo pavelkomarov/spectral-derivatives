{
 "cells": [
  {
   "cell_type": "markdown",
   "id": "dd3e51bb-0049-47b9-9ec3-0c96eccd48dd",
   "metadata": {},
   "source": [
    "This code addresses [Issue #16](https://github.com/pavelkomarov/spectral-derivatives/issues/16).\n",
    "\n",
    "Essentially, `spec_deriv`, `math.pdf`, [Trefethen himself](https://epubs.siam.org/doi/epdf/10.1137/1.9780898719598.ch8) are overcomplicating taking derivatives with the Chebyshev basis, and we can obviate a lot of steps."
   ]
  },
  {
   "cell_type": "code",
   "execution_count": 24,
   "id": "0446f033-be15-4282-85e4-b4ea7df868f6",
   "metadata": {},
   "outputs": [
    {
     "name": "stdout",
     "output_type": "stream",
     "text": [
      "0 8.429731597374347e-30 5.719287779152547e-31 \n",
      "1 4.1903649122814733e-19 4.190401496034697e-19 4.1169996844132876e-19\n",
      "2 2.10892451086177e-05 2.1089245108302867e-05 2.1261024253153883e-05\n",
      "3 285453051.72875345 285453051.7267138 59638151.851370886\n",
      "4 1.6448632027710557e+21 1.644863202758878e+21 5.8885627500520944e+20\n"
     ]
    },
    {
     "data": {
      "image/png": "[encoded data removed]",
      "text/plain": [
       "<Figure size 1200x400 with 2 Axes>"
      ]
     },
     "metadata": {},
     "output_type": "display_data"
    }
   ],
   "source": [
    "import numpy as np\n",
    "from numpy.polynomial.chebyshev import Chebyshev\n",
    "from matplotlib import pyplot\n",
    "from scipy.fft import dct, dst\n",
    "from specderiv import cheb_deriv\n",
    "\n",
    "N = 4096\n",
    "\n",
    "x_n = np.cos(np.arange(N+1) * np.pi / N)\n",
    "x = np.linspace(-1, 1, 100)\n",
    "\n",
    "y = lambda x: np.sin(8*(x+1))/((x + 1.1)**(3/2))\n",
    "dy = lambda x: ((8.8 + 8*x)*np.cos(8*(x+1)) - 1.5*np.sin(8*(x+1)))/((x + 1.1)**(5/2))\n",
    "d2y = lambda x: ((-26.4 - 24*x)*np.cos(8 + 8*x) + (-73.69 + (-140.8 - 64*x)*x)*np.sin(8 + 8*x))/((1.1 + x)**(7/2))\n",
    "d3y = lambda x: ((-582.472 + x*(-1768.56 + (-1689.6 - 512*x)*x))*np.cos(8 + 8*x) + (335.355 + x*(633.6 + 288.*x))*np.sin(8 + 8*x))/((1.1 + x)**(9/2))\n",
    "d4y = lambda x: ((3626.83 + x*(10731.4 + x*(10137.6 + 3072*x)))*np.cos(8 + 8*x) + (4313.62 + x*(18639.1 + x*(28297. + x*(18022.4 + 4096*x))))*np.sin(8 + 8*x))/((1.1 + x)**(11/2))\n",
    "\n",
    "#y = lambda x: np.exp(x) * np.sin(5*x)\n",
    "#dy = lambda x: 5*np.exp(x) * np.cos(5*x) + np.exp(x) * np.sin(5*x)\n",
    "#d2y = lambda x: 2*np.exp(x) * (5*np.cos(5*x) - 12*np.sin(5*x))\n",
    "#d3y = lambda x: -2*np.exp(x) * (37*np.sin(5*x) + 55*np.cos(5*x))\n",
    "#d4y = lambda x: 4*np.exp(x) * (119*np.sin(5*x) - 120*np.cos(5*x))\n",
    "\n",
    "y_n = y(x_n)\n",
    "Y_k = dct(y_n, 1)\n",
    "Y_k[0] /= 2; Y_k[N] /= 2 # because first and last coefficients are outside the sum\n",
    "Y_k /= N # In IDCT-I we divide by N\n",
    "cheb = Chebyshev(Y_k) # This class' deriv function works in O(N)\n",
    "# No mapping back to chebyshev domain. No worrying about endpoint formulas.\n",
    "\n",
    "def L2(w, v):\n",
    "    \"\"\"calculate L2 error squared\"\"\"\n",
    "    return np.mean((w - v)**2)\n",
    "\n",
    "y_n_primes = []\n",
    "for nu,dy_ in enumerate([y, dy, d2y, d3y, d4y]):\n",
    "    dcheb = cheb.deriv(nu) # O(nu * N) instead of O(N + nu^2 + nu * N)\n",
    "\n",
    "    # Evaluating cheb(x) uses `chebval`, which is based on the recurrence formula, which works in O(cN), where c is the\n",
    "    # number of coefficients, which will be another N in this case. We can avoid this O(N^2) with an inverse transform,\n",
    "    # since our sample points are the Chebyshev points. We can construct the Y_k' necessary for such a transform from\n",
    "    # the Chebyshev coefficients.\n",
    "    Y_k_prime = np.concatenate((dcheb.coef*N, [0]*nu)) # always len N so we get N samples back after inverse transform\n",
    "    Y_k_prime[0] *= 2; Y_k_prime[N] *= 2\n",
    "\n",
    "    y_n_primes.append( dct(Y_k_prime, 1)/(2*N) ) # This is the O(N log N) way, via inverse transform\n",
    "\n",
    "    dy_n = dy_(x_n)\n",
    "    print(nu, L2(dy_n, dcheb(x_n)), L2(dy_n, y_n_primes[-1]), \"\" if nu == 0 else L2(dy_n, cheb_deriv(y_n, x_n, nu)))\n",
    "\n",
    "fig, axes = pyplot.subplots(1, 2, figsize=(12,4))\n",
    "axes[0].plot(x, y(x), 'k')\n",
    "axes[0].plot(x_n, y_n_primes[0], 'k+')\n",
    "axes[0].plot(x, dy(x), 'b')\n",
    "axes[0].plot(x_n, y_n_primes[1], 'b+')\n",
    "axes[1].plot(x, d2y(x), 'r')\n",
    "axes[1].plot(x_n, y_n_primes[2], 'r+')\n",
    "axes[1].plot(x, d3y(x), 'g')\n",
    "axes[1].plot(x_n, y_n_primes[3], 'g+')\n",
    "axes[1].plot(x, d4y(x), 'm')\n",
    "axes[1].plot(x_n, y_n_primes[4], 'm+');\n"
   ]
  },
  {
   "cell_type": "markdown",
   "id": "88be3714-7dee-4ad6-9fbc-b04a2277dc8b",
   "metadata": {},
   "source": [
    "We can actually do the DCT-II with this method also, because we can reach the same coefficients simply:"
   ]
  },
  {
   "cell_type": "code",
   "execution_count": 2,
   "id": "fc952286-d730-4e47-a513-19daffdc78c3",
   "metadata": {},
   "outputs": [
    {
     "name": "stdout",
     "output_type": "stream",
     "text": [
      "0 3.906479119716537e-24\n",
      "1 566219.1745550843 566219.1745550843\n",
      "2 2.6220943503579212e-14 2.6220860666289068e-14\n",
      "3 2.1545138192240087e-10 2.1544799361755951e-10\n",
      "4 8.747607419613032e-07 8.745764380667108e-07\n"
     ]
    }
   ],
   "source": [
    "x_nII = np.concatenate(([1], np.cos((np.arange(N+1) + 0.5) * np.pi/(N+1)), [-1]))\n",
    "\n",
    "y_nII = y(x_nII)\n",
    "Y_kII = dct(y_nII[1:-1], 2)\n",
    "Y_kII[0] /= 2 # because first element of DCT-III is outside the sum\n",
    "Y_kII /= N+1 # IDCT-II has division by N+1\n",
    "\n",
    "assert np.allclose(Y_k, Y_kII)\n",
    "\n",
    "cheb = Chebyshev(Y_kII)\n",
    "cheb_1 = cheb.deriv(1) # O(nu * N) instead of O(N + nu^2 + nu * N + N log N)\n",
    "cheb_2 = cheb.deriv(2)\n",
    "cheb_3 = cheb.deriv(3)\n",
    "cheb_4 = cheb.deriv(4)\n",
    "\n",
    "print(\"0\", np.mean((y_nII - cheb(x_nII))**2))\n",
    "print(\"1\", np.mean((dy(x_nII) - cheb_1(x_nII))**2), np.mean((dy(x_nII) - cheb_deriv(y_nII, x_nII, 1, dct_type=2))**2))\n",
    "print(\"2\", np.mean((d2y(x_nII) - cheb_2(x_nII))**2), np.mean((d2y(x_nII) - cheb_deriv(y_nII, x_nII, 2, dct_type=2))**2))\n",
    "print(\"3\", np.mean((d3y(x_nII) - cheb_3(x_nII))**2), np.mean((d3y(x_nII) - cheb_deriv(y_nII, x_nII, 3, dct_type=2))**2))\n",
    "print(\"4\", np.mean((d4y(x_nII) - cheb_4(x_nII))**2), np.mean((d4y(x_nII) - cheb_deriv(y_nII, x_nII, 4, dct_type=2))**2))"
   ]
  }
 ],
 "metadata": {
  "kernelspec": {
   "display_name": "Python 3 (ipykernel)",
   "language": "python",
   "name": "python3"
  },
  "language_info": {
   "codemirror_mode": {
    "name": "ipython",
    "version": 3
   },
   "file_extension": ".py",
   "mimetype": "text/x-python",
   "name": "python",
   "nbconvert_exporter": "python",
   "pygments_lexer": "ipython3",
   "version": "3.13.2"
  }
 },
 "nbformat": 4,
 "nbformat_minor": 5
}
