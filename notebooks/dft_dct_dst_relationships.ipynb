{
 "cells": [
  {
   "cell_type": "markdown",
   "id": "738dfead-c1af-4a2e-ba1a-e523cb5190ce",
   "metadata": {},
   "source": [
    "# Manipulations and Variants of the DFT\n",
    "\n",
    "The Discrete Fourier Transform definition can be twisted into several equivalent forms, which may be worth understanding. I use [very similar manipulations to prove $Y_{M-k} = Y_k$ in the math](https://pavelkomarov.com/spectral-derivatives/math.pdf)."
   ]
  },
  {
   "cell_type": "code",
   "execution_count": 1,
   "id": "0d74f686",
   "metadata": {},
   "outputs": [],
   "source": [
    "import numpy as np\n",
    "from scipy.fft import dct, idct, dst, idst, fft, ifft"
   ]
  },
  {
   "cell_type": "code",
   "execution_count": 2,
   "id": "18531c04-8603-4dc2-b026-63a2b1aef5ea",
   "metadata": {},
   "outputs": [],
   "source": [
    "def FFT(k):\n",
    "    \"\"\"just to show DFT(k) definitely == FFT(k) == a_k\"\"\"\n",
    "    return np.fft.fft(x)[k]\n",
    "\n",
    "def DFT(k):\n",
    "\t\"\"\"standard way to find DFT coefficients\"\"\"\n",
    "\ta_k = 0\n",
    "\tfor n in range(len(x)):\n",
    "\t\ta_k += x[n] * np.exp(-2*np.pi/len(x) * 1j * n * k)\n",
    "\treturn a_k\n",
    "\n",
    "def DFT_(k):\n",
    "\t\"\"\"finding DFT coefficients by summing in the opposite direction, using -n\"\"\"\n",
    "\ta_k = 0\n",
    "\tfor n in range(1, len(x)+1):\n",
    "\t\ta_k += x[-n] * np.exp(2*np.pi/len(x) * 1j * n * k)\n",
    "\treturn a_k\n",
    "\n",
    "def DFT__(k, L=3):\n",
    "\t\"\"\"finding DFT coefficients with arbitrary roll-around, a mix of the above two formulae\"\"\"\n",
    "\ta_k = 0\n",
    "\tfor n in range(len(x)-L+1, len(x)+1): # from M-L to M, covers first half\n",
    "\t\ta_k += x[-n] * np.exp(2*np.pi/len(x) * 1j * n * k)\n",
    "\tfor n in range(L, len(x)):\n",
    "\t\ta_k += x[n] * np.exp(-2*np.pi/len(x) * 1j * n * k)\n",
    "\treturn a_k\n",
    "\n",
    "def DFT_even(k):\n",
    "\t\"\"\"a formula which equals the other three for *even* signals\"\"\"\n",
    "\ta_k = 0\n",
    "\tfor n in range(len(x)):\n",
    "\t\ta_k += x[n] * np.exp(2*np.pi/len(x) * 1j * n * k)\n",
    "\treturn a_k"
   ]
  },
  {
   "cell_type": "markdown",
   "id": "d8478cfa-acbc-4573-8e40-4f09e25d8861",
   "metadata": {},
   "source": [
    "Let's try it on an even signal. This makes the input vector palindromic: $[x_0, x_1, ... x_N, x_{-(N-1)}, ...x_{-1}]$"
   ]
  },
  {
   "cell_type": "code",
   "execution_count": 3,
   "id": "0aaab8b9-7634-4312-a5e3-0c4cd75bf37f",
   "metadata": {},
   "outputs": [
    {
     "name": "stdout",
     "output_type": "stream",
     "text": [
      "k = 0 , def = 1 : 30.00 + 0.00e+00j\n",
      "k = 0 , def = 2 : 30.00 + 0.00e+00j\n",
      "k = 0 , def = 3 : 30.00 + 0.00e+00j\n",
      "k = 0 , def = 4 : 30.00 + 0.00e+00j\n",
      "k = 0 , def = 5 : 30.00 + 0.00e+00j\n",
      "k = 1 , def = 1 : -8.00 + 0.00e+00j\n",
      "k = 1 , def = 2 : -8.00 - 2.66e-15j\n",
      "k = 1 , def = 3 : -8.00 + 1.68e-15j\n",
      "k = 1 , def = 4 : -8.00 - 1.78e-15j\n",
      "k = 1 , def = 5 : -8.00 + 2.66e-15j\n",
      "k = 2 , def = 1 : 6.00 + 0.00e+00j\n",
      "k = 2 , def = 2 : 6.00 - 4.44e-15j\n",
      "k = 2 , def = 3 : 6.00 + 2.48e-15j\n",
      "k = 2 , def = 4 : 6.00 + 4.44e-16j\n",
      "k = 2 , def = 5 : 6.00 + 4.44e-15j\n",
      "k = 3 , def = 1 : -2.00 + 0.00e+00j\n",
      "k = 3 , def = 2 : -2.00 - 7.53e-15j\n",
      "k = 3 , def = 3 : -2.00 + 4.59e-15j\n",
      "k = 3 , def = 4 : -2.00 - 6.61e-15j\n",
      "k = 3 , def = 5 : -2.00 + 7.53e-15j\n",
      "k = 4 , def = 1 : 6.00 + 0.00e+00j\n",
      "k = 4 , def = 2 : 6.00 - 7.99e-15j\n",
      "k = 4 , def = 3 : 6.00 + 4.07e-15j\n",
      "k = 4 , def = 4 : 6.00 + 8.88e-16j\n",
      "k = 4 , def = 5 : 6.00 + 7.99e-15j\n",
      "k = 5 , def = 1 : -8.00 + 0.00e+00j\n",
      "k = 5 , def = 2 : -8.00 - 1.47e-14j\n",
      "k = 5 , def = 3 : -8.00 + 9.76e-15j\n",
      "k = 5 , def = 4 : -8.00 - 1.20e-14j\n",
      "k = 5 , def = 5 : -8.00 + 1.47e-14j\n"
     ]
    }
   ],
   "source": [
    "x = [4, 3, 5, 10, 5, 3]\n",
    "\n",
    "def format_complex(z):\n",
    "\tpm = \" + \" if z.imag >= 0 else \" - \"\n",
    "\timag = f\"{np.abs(z.imag):.2e}\" if np.abs(z.imag) < 1e-6 else f\"{np.abs(z.imag):.3f}\"\n",
    "\treturn f\"{z.real:.2f}\" + pm + imag + \"j\"\n",
    "\n",
    "for k in range(0, len(x)):\n",
    "\tfor i,f in enumerate([FFT, DFT, DFT_, DFT__, DFT_even]):\n",
    "\t\tprint(\"k =\", k, \", def =\", i+1, \":\", format_complex(f(k)))"
   ]
  },
  {
   "cell_type": "markdown",
   "id": "4be9a3ba-49db-4f62-824c-f32705ff9e12",
   "metadata": {},
   "source": [
    "Note that if we do it with a signal that *isn't* perfectly even, the last definition doesn't equal the others."
   ]
  },
  {
   "cell_type": "code",
   "execution_count": 4,
   "id": "bd707baf-e504-476a-a038-d85bc261ce64",
   "metadata": {},
   "outputs": [
    {
     "name": "stdout",
     "output_type": "stream",
     "text": [
      "k = 0 , def = 1 : 29.00 + 0.00e+00j\n",
      "k = 0 , def = 2 : 29.00 + 0.00e+00j\n",
      "k = 0 , def = 5 : 29.00 + 0.00e+00j\n",
      "k = 1 , def = 1 : -8.50 - 0.866j\n",
      "k = 1 , def = 2 : -8.50 - 0.866j\n",
      "k = 1 , def = 5 : -8.50 + 0.866j\n",
      "k = 2 , def = 1 : 6.50 - 0.866j\n",
      "k = 2 , def = 2 : 6.50 - 0.866j\n",
      "k = 2 , def = 5 : 6.50 + 0.866j\n",
      "k = 3 , def = 1 : -1.00 + 1.11e-16j\n",
      "k = 3 , def = 2 : -1.00 - 5.14e-15j\n",
      "k = 3 , def = 5 : -1.00 + 5.14e-15j\n",
      "k = 4 , def = 1 : 6.50 + 0.866j\n",
      "k = 4 , def = 2 : 6.50 + 0.866j\n",
      "k = 4 , def = 5 : 6.50 - 0.866j\n",
      "k = 5 , def = 1 : -8.50 + 0.866j\n",
      "k = 5 , def = 2 : -8.50 + 0.866j\n",
      "k = 5 , def = 5 : -8.50 - 0.866j\n"
     ]
    }
   ],
   "source": [
    "x = [4, 3, 5, 10, 5, 2]\n",
    "\n",
    "for k in range(0, len(x)):\n",
    "\tfor i,f in zip((1, 2, 5), [FFT, DFT, DFT_even]):\n",
    "\t\tprint(\"k =\", k, \", def =\", i, \":\", format_complex(f(k)))"
   ]
  },
  {
   "cell_type": "markdown",
   "id": "7cdc97c4-3b5a-4539-a45d-db19d79ff378",
   "metadata": {},
   "source": [
    "[\"One, two, five--\"  \n",
    "\"Three, sir!\"  \n",
    "\"Three!\"](https://www.youtube.com/watch?v=xOrgLj9lOwk&t=129s)"
   ]
  },
  {
   "cell_type": "markdown",
   "id": "25e36549-ae79-4803-adac-7145fe592c6c",
   "metadata": {},
   "source": [
    "# How DCT and DST are Related to the DFT\n",
    "\n",
    "The math can be confusing, and the [scipy docs](https://docs.scipy.org/doc/scipy/reference/generated/scipy.fft.dst.html) can be especially confusing, so it's worth seeing **in code** *exactly* how the [DCT](https://en.wikipedia.org/wiki/Discrete_cosine_transform#Informal_overview) and the [DST](https://en.wikipedia.org/wiki/Discrete_sine_transform#Informal_overview) can be formed out of a DFT (FFT)."
   ]
  },
  {
   "cell_type": "code",
   "execution_count": 5,
   "id": "6683b647-004b-4919-a414-4fe3bc292dc0",
   "metadata": {},
   "outputs": [],
   "source": [
    "y_n = np.array([3, 7, -1, 4, 8])"
   ]
  },
  {
   "cell_type": "markdown",
   "id": "d061a357-09a5-443c-b3ae-63dcfa854a1f",
   "metadata": {},
   "source": [
    "## DCT-I\n",
    "\n",
    "$$\\begin{align*}\n",
    "[Y_0, ... Y_N] = \\text{DCT-I}([y_0, y_1, ... y_N]) &= \\text{FFT}([y_0, y_1, ... y_{N-1}, y_N, y_{N-1}, ... y_1])[:\\!N+1] \\\\\n",
    "[y_0, ... y_n] = \\text{IDCT-I}([Y_0, Y_1, ... Y_N]) &= \\frac{1}{M} \\text{DCT-I}([Y_0, Y_1, ... Y_N]) = \\text{IFFT}([Y_0, Y_1, ... Y_{N-1}, Y_N, Y_{N-1}, ... Y_{1}])[:\\!N+1]\n",
    "\\end{align*}$$\n",
    "\n",
    "For proof see [the math](https://pavelkomarov.com/spectral-derivatives/math.pdf).\n",
    "\n",
    "The input to both the forward and inverse transforms can have the same structure, because the DCT-I is its own inverse up to factor $M = 2N$, which appears because the inverse transform is normalized by the length of the FFT input."
   ]
  },
  {
   "cell_type": "code",
   "execution_count": 6,
   "id": "5b362596-2be0-4ecf-ace7-70af8ed52e68",
   "metadata": {},
   "outputs": [],
   "source": [
    "def dct_i_fft(y):\n",
    "\ty_ext = np.concatenate((y, y[-2:0:-1])) # even extension, ordering not sensitive like the odd case\n",
    "\treturn fft(y_ext)[:len(y)]\n",
    "\n",
    "def idct_i_ifft(Y):\n",
    "\tY_ext = np.concatenate((Y, Y[-2:0:-1]))\n",
    "\treturn ifft(Y_ext)[:len(Y)]\n",
    "\n",
    "# Transform to frequency domain with the FFT and check this is actually the same as the DCT\n",
    "Y_k = dct_i_fft(y_n)\n",
    "assert np.all(np.abs(dct(y_n, 1) - Y_k) < 1e-10)\n",
    "\n",
    "# Take a second derivative in frequency domain and check that the inverse transform of this is the same using DCT and FFT\n",
    "Y_p2 = -Y_k*np.arange(len(Y_k))**2\n",
    "assert np.all(np.abs(idct(Y_p2, 1) - idct_i_ifft(Y_p2)) < 1e-10)\n",
    "\n",
    "# Ensure I have the correct normalization factor\n",
    "M = 2*(len(Y_k) - 1)\n",
    "assert np.all(np.abs(dct(Y_p2, 1)/M - idct_i_ifft(Y_p2)) < 1e-10)"
   ]
  },
  {
   "cell_type": "markdown",
   "id": "64c469ae-e09b-4d5f-b0a9-e66edf140401",
   "metadata": {},
   "source": [
    "## DST-I\n",
    "\n",
    "$$\\begin{align*}\n",
    "[Y_0, ... Y_N] = \\text{DST-I}(j \\cdot [y_0, y_1, ... y_N]) &= \\text{FFT}([0, -y_0, -y_1, ... -y_{N-1}, -y_N, 0, y_N, y_{N-1}, ... y_1])[1\\!:\\!N] \\\\\n",
    "[y_1, ... y_{N-1}] = \\text{IDST-I}(j \\cdot [Y_1, ... Y_{N-1}]) &= \\frac{1}{M} \\text{DST-I}(j \\cdot [Y_1, ... Y_{N-1}]) = \\text{IFFT}([0, Y_1, ... Y_{N-1}, 0, -Y_{N-1}, ... -Y_1])[1\\!:\\!N]\n",
    "\\end{align*}$$\n",
    "\n",
    "For proof see [the math](https://pavelkomarov.com/spectral-derivatives/math.pdf).\n",
    "\n",
    "Like for the DCT-I, $M = 2N$, and the DST-I is its own inverse up to this factor. However, unlike the DCT-I, `scipy`'s DST-I has funny indexing.\n",
    "\n",
    "Notice the addition of zeros at the $1^{st}$ and $\\frac{M}{2}^{th}$ indices, which make the function odd: It doesn't make sense to sine transform a not-odd thing, and the DST-I assumes the function is odd around whole-number indices ahead of and behind the current signal, which means there must be zero crossings there. Presumably to save compute (but causing confusion in the process), `scipy`'s DST-I *does not take* the $0^{th}$ and $N^{th}$ indices.\n",
    "\n",
    "Notice too that the negated locations of the input vector flip for the forward and inverse transforms. This is because in the forward FFT the beginning of the vector is multiplied by negative exponentials, and the back half is multiplied by positive exponentials, but in the inverse transform the front half is multiplied by positive exponentials, and the back half by negative exponentials. And we need a structure like $+x_k e^{+j} -x_k e^{-j}$ to form sines."
   ]
  },
  {
   "cell_type": "code",
   "execution_count": 7,
   "id": "0ca3446f-b285-48b8-b1f1-75737390cce6",
   "metadata": {},
   "outputs": [],
   "source": [
    "def dst_i_fft(y):\n",
    "\ty_ext = np.concatenate(([0], -y, [0], y[::-1])) # odd extension, with sign flip to account for fft rather than ifft\n",
    "\treturn fft(y_ext)[1:1+len(y)]\n",
    "\n",
    "def idst_i_ifft(Y):\n",
    "\tY_ext = np.concatenate(([0], Y, [0], -Y[::-1]))\n",
    "\treturn ifft(Y_ext)[1:1+len(Y)] # the input here is N-2 long, so to return 1...N-1 return len(Y) elements\n",
    "\n",
    "# Verify the top identity holds for some arbitrary input\n",
    "assert np.all(np.abs(dst(1j * y_n, 1) - dst_i_fft(y_n)) < 1e-10)\n",
    "\n",
    "# Take a first derivative in frequency domain\n",
    "Y_p1 = Y_k*1j*np.arange(len(Y_k))\n",
    "Y_p1[-1] = 0 # zero out Nyquist term\n",
    "# Y_p1 is now 0 at indices 0 and -1; the dst() function only takes the nonzero indices [1:-1] as input\n",
    "assert np.all(np.abs(idst(1j*Y_p1[1:-1], 1) - idst_i_ifft(Y_p1[1:-1])) < 1e-10)\n",
    "\n",
    "# Demonstrate M = 2N is correct\n",
    "assert np.all(np.abs(dst(1j*Y_p1[1:-1], 1)/M - idst_i_ifft(Y_p1[1:-1])) < 1e-10)"
   ]
  },
  {
   "cell_type": "markdown",
   "id": "cc7d2d62-76c5-4c30-bf91-348cba1d2f1f",
   "metadata": {},
   "source": [
    "## DCT-II/III\n",
    "\n",
    "$$\\begin{align*}\n",
    "[Y_0, ... Y_N] = \\text{DCT-II}([y_0, y_1, ... y_N]) &= \\text{FFT}([y_0, y_1, ... y_N, y_N, ... y_0])[:\\!N+1] \\odot e^{-j\\frac{2\\pi}{M}\\frac{1}{2}[0, ... N]}\\\\\n",
    "&= \\text{FFT}([0, y_0, 0, y_1, ... 0, y_N, 0, y_N, ... 0, y_0])[:\\!N+1]\\\\\n",
    "[y_0, ... y_n] = \\text{IDCT-II}([Y_0, ... Y_N]) &= \\frac{1}{M} \\text{DCT-III}([Y_0, ... Y_N])\\\\\n",
    "&= \\text{IFFT}([Y_0, Y_1, ... Y_N, 0, Y_N, Y_{N-1}, ... Y_1] \\odot e^{j\\frac{2\\pi}{M}\\frac{1}{2}[0, ... N, N+1, -N, ... -1]})[:\\!N+1]\n",
    "\\end{align*}$$\n",
    "\n",
    "### Proof:\n",
    "\n",
    "If we choose $\\theta_{n,\\text{II}} = \\frac{2\\pi}{M}(n + \\frac{1}{2}),\\ n \\in \\{0, ... M-1\\}$ (half-index sampling, which *doesn't* include the endpoints 0 and $\\pi$), then we get:\n",
    "\n",
    "$$\\vec{y}_{\\text{ext,II}} = \\underbrace{[\\underbrace{y_{0,\\text{II}}, y_{1,\\text{II}}, ... y_{N,\\text{II}}}_{\\text{original vector, length }N+1}, \\underbrace{y_{N,\\text{II}}, ... y_{1,\\text{II}}, y_{0,\\text{II}}}_{\\text{redundant information}}]}_{\\text{length }M = 2(N+1)\\text{, necessarily even!}}, \\text{ that is: } y_{n,\\text{II}} = y_{M-n-1,\\text{II}},\\ 0 \\leq n \\leq N$$\n",
    "\n",
    "If we once again use $M-k$ instead of $k$ in the DFT equation, we can find the relationship between $Y_{M-k}$ and $Y_k$:\n",
    "\n",
    "$$\\begin{align*}\n",
    "Y_{M-k} &= \\sum_{n=0}^{M-1} y_{n,\\text{II}} e^{-j \\frac{2\\pi}{M}n(M-k)} = \\sum_{n=0}^{M-1} y_{n,\\text{II}} \\underbrace{e^{-j 2\\pi n}}_{1} e^{j \\frac{2\\pi}{M}nk} = \\sum_{n' = M-1}^{0} y_{M-n'-1,\\text{II}} e^{j \\frac{2\\pi}{M}(M - n' - 1)k} \\\\\n",
    "&= \\sum_{n'=0}^{M-1} \\underbrace{y_{M-n'-1,\\text{II}}}_{= y_{n',\\text{II}}} \\underbrace{e^{j 2\\pi k}}_{1} e^{-j\\frac{2\\pi}{M}(n'+1)k} = e^{-j \\frac{2\\pi}{M} k} \\sum_{n'=0}^{M-1} y_{n',\\text{II}} e^{-j \\frac{2\\pi}{M}n'k} = e^{-j \\frac{2\\pi}{M} k} Y_k \\quad \\square\n",
    "\\end{align*}$$\n",
    "\n",
    "where $n' = M - n - 1$ is just an alternative indexer. Let's now plug these in to the interpolant:\n",
    "\n",
    "$$\\begin{align*}\n",
    "y(\\theta) &= \\frac{1}{M} \\Big(\\underbrace{Y_0}_{=\\underbrace{e^{-j \\frac{2\\pi}{M} 0}}_{1} Y_0} + \\sum_{0 < k < \\frac{M}{2}} \\big( Y_k e^{j k \\theta} + \\underbrace{Y_{M-k}}_{=e^{-j \\frac{2\\pi}{M} k} Y_k} e^{-j k \\theta}\\big) + Y_{M/2}\\cos(\\frac{M}{2}\\theta) \\Big) \\\\\n",
    "&= \\frac{1}{M} \\Big(Y_0 + \\sum_{k = 1}^N Y_k \\underbrace{e^{-j \\frac{2\\pi}{M}k\\frac{1}{2}}}_{\\text{phase ramp}} \\underbrace{\\big(e^{j \\frac{2\\pi}{M}k\\frac{1}{2}} e^{j k \\theta} + e^{-j \\frac{2\\pi}{M}k\\frac{1}{2}} e^{-j k \\theta}\\big)}_{2\\cos(k\\theta + \\frac{2\\pi}{M}k\\frac{1}{2})} \\Big)\n",
    "\\end{align*}$$\n",
    "\n",
    "where the $Y_{M/2}$ term disappears because $Y_{M/2} = e^{-j \\frac{2\\pi}{M} \\frac{M}{2}} Y_{M/2} = -Y_{M/2} \\rightarrow Y_{M/2} = 0$.\n",
    "\n",
    "The DFT is blind to where samples came from and assumes they are at $\\theta_n = \\frac{2\\pi}{M}n = \\frac{\\pi}{N+1}n$, which results in:\n",
    "\n",
    "$$y_{n,\\text{II}} = \\frac{1}{M} \\Big(\\underset{\\substack{\\uparrow \\\\ Y_{0,\\text{II}}}}{Y_0} + 2 \\sum_{k = 1}^N \\underbrace{Y_k \\underbrace{e^{-j \\frac{2\\pi}{M}k\\frac{1}{2}}}_{\\text{phase ramp}}}_{Y_{k,\\text{II}}} \\cos\\!\\big(k\\underbrace{\\frac{\\pi}{N+1} (n + \\frac{1}{2})}_{=\\theta_{n,\\text{II}}}\\big) \\Big)$$\n",
    "\n",
    "This is the IDCT-II, a scaled DCT-III, if we take its coefficients to be the [\"phase ramp\"](https://dsp.stackexchange.com/questions/2807/fast-cosine-transform-via-fft) multiplied with the DFT coefficients. Operating on samples $y_{n,\\text{II}}$, taken from $\\theta_{n,\\text{II}}$ (\"half-indices\"), *offsets* the phase difference and makes this equivalent to a DFT of palindromic on-index samples. Notice the Nyquist term, which would be at index $\\frac{M}{2} = N+1$, has disappeared with this sampling, its positive and negative frequency components perfectly cancelling due to interaction with the phase ramp, so the IFFT gets a 0 at the $N+1$ term.\n",
    "\n",
    "Just as with the [DCT-I](#dct-i), since we can use the *inverse* transform to reconstruct the signal from basis coefficients, we can use the *forward* DCT-II transform to obtain those coefficients."
   ]
  },
  {
   "cell_type": "code",
   "execution_count": 8,
   "id": "dccf33ac-9862-408c-b6b7-97d508a1c604",
   "metadata": {},
   "outputs": [],
   "source": [
    "def dct_ii_fft(y):\n",
    "\ty_ext = np.concatenate((y, y[::-1]))\n",
    "\treturn fft(y_ext)[:len(y)] * np.exp(-1j*np.pi*np.arange(len(y))/(2*len(y)))\n",
    "\n",
    "def dct_ii_fft_spaced(y):\n",
    "    y_ext = np.concatenate((y, y[::-1]))\n",
    "    y_spaced = [0 if i%2==0 else y_ext[(i-1)//2] for i in range(4*len(y))]\n",
    "    return fft(y_spaced)[0:len(y)]\n",
    "\n",
    "def dct_iii_ifft(Y):\n",
    "\tM = 2*len(Y)\n",
    "\tY_pos = Y * np.exp(1j * np.pi/M * np.arange(len(Y)))\n",
    "\tY_neg = Y * np.exp(-1j * np.pi/M * np.arange(len(Y)))\n",
    "\tY_ext = np.concatenate((Y_pos, [0], Y_neg[-1:0:-1]))\n",
    "\treturn ifft(Y_ext)[:len(Y)]\n",
    "\n",
    "# Transform to frequency domain with the FFT and check this is actually the same as the DCT\n",
    "Y_k = dct_ii_fft(y_n)\n",
    "assert np.all(np.abs(dct(y_n, 2) - Y_k) < 1e-10)\n",
    "assert np.all(np.abs(dct_ii_fft_spaced(y_n) - Y_k) < 1e-10)\n",
    "\n",
    "# Take a second derivative in frequency domain and check that the inverse transform of this is the same using DCT and FFT\n",
    "Y_p2 = -Y_k*np.arange(len(Y_k))**2\n",
    "assert np.all(np.abs(dct_iii_ifft(Y_p2) - idct(Y_p2, 2)) < 1e-10)\n",
    "\n",
    "# Demonstrate this is the correct M\n",
    "M = 2*len(y_n)\n",
    "assert np.all(np.abs(idct(Y_k, 2) - dct(Y_k, 3)/M) < 1e-10)"
   ]
  },
  {
   "cell_type": "markdown",
   "id": "5734739d-6098-46c5-9e4c-dc2f372946c5",
   "metadata": {},
   "source": [
    "## DST-II/III\n",
    "\n",
    "$$\n",
    "\\begin{align}\n",
    "[Y_0, ... Y_N] = \\text{DST-II}(j \\cdot [y_0, y_1, ... y_N]) &= \\text{FFT}([-y_0, -y_1, ... -y_N, y_N, ... y_0])[1\\!:\\!N+2] \\odot e^{-j\\frac{2\\pi}{M}\\frac{1}{2}[1, ... N+1]} \\\\\n",
    "[y_0, ... y_N] = \\text{IDST-II}(j \\cdot [Y_1, ... Y_N]) &= \\frac{1}{M} \\text{DST-III}(j \\cdot [Y_1, ... Y_N])\\\\\n",
    "&= \\text{IFFT}([0, Y_1, ... Y_{N-1}, Y_{N}, -Y_{N-1}, ... -Y_1] \\odot e^{j\\frac{2\\pi}{M}\\frac{1}{2}[0, ... N-1, N, -(N-1), ... -1]})[:\\!N+1]\n",
    "\\end{align}\n",
    "$$"
   ]
  },
  {
   "cell_type": "code",
   "execution_count": 9,
   "id": "1f4cb7f2-f919-4d88-aa52-acb63820db3f",
   "metadata": {},
   "outputs": [],
   "source": [
    "def dst_ii_fft(y):\n",
    "    y_ext = np.concatenate((-y, y[::-1]))\n",
    "    return fft(y_ext)[1:len(y)+1] * np.exp(-1j*np.pi*np.arange(1,1+len(y))/(2*len(y)))\n",
    "\n",
    "def dst_ii_fft_spaced(y):\n",
    "\ty_ext = np.concatenate((-y, y[::-1])) # odd extension, with sign flip to account for fft rather than ifft\n",
    "\ty_spaced = [0 if i%2==0 else y_ext[(i-1)//2] for i in range(4*len(y))]\n",
    "\treturn fft(y_spaced)[1:1+len(y)]\n",
    "\n",
    "def dst_iii_ifft(Y): # giving it only k \\in {1,...N}\n",
    "    M = 2*len(Y) # M = 2N for the DST-III\n",
    "    Y_pos = Y * np.exp(1j * np.pi/M * np.arange(1,1+len(Y))) # k in {1,...N} here\n",
    "    Y_neg = Y[:-1] * -np.exp(-1j * np.pi/M * np.arange(1,len(Y))) # k in {1,...N-1} here\n",
    "    Y_ext = np.concatenate(([0], Y_pos, Y_neg[::-1]))\n",
    "    return ifft(Y_ext)[:len(Y)] # we return from the 0th index, because answer corresponds to all input\n",
    "\n",
    "# Verify the top identity holds for some arbitrary input\n",
    "assert np.all(np.abs(dst(1j*y_n, 2) - dst_ii_fft(y_n)) < 1e-10)\n",
    "assert np.all(np.abs(dst(1j*y_n, 2) - dst_ii_fft_spaced(y_n)) < 1e-10)\n",
    "\n",
    "# Take a first derivative in frequency domain\n",
    "Y_p1 = Y_k*1j*np.arange(len(Y_k))\n",
    "M = 2*len(Y_p1[1:]) # 0, Y_1, ... Y_N stacks on itself, -Y_{N-1}, ... -Y_1 = M things = 2N, not 2(N+1) like in the DCT case!\n",
    "assert np.all(np.abs(idst(1j * Y_p1[1:], 2) - dst(1j * Y_p1[1:], 3)/M) < 1e-10)\n",
    "\n",
    "# Y_p1 is now 0 at index 0; the dst() function only takes the nonzero indices [1:] as input\n",
    "assert np.all(np.abs(dst(1j*Y_p1[1:], 3)/M - dst_iii_ifft(Y_p1[1:])) < 1e-10)"
   ]
  }
 ],
 "metadata": {
  "kernelspec": {
   "display_name": "Python 3",
   "language": "python",
   "name": "python3"
  },
  "language_info": {
   "codemirror_mode": {
    "name": "ipython",
    "version": 3
   },
   "file_extension": ".py",
   "mimetype": "text/x-python",
   "name": "python",
   "nbconvert_exporter": "python",
   "pygments_lexer": "ipython3",
   "version": "3.13.2"
  }
 },
 "nbformat": 4,
 "nbformat_minor": 5
}
