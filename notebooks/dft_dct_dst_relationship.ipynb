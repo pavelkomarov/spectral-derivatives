{
 "cells": [
  {
   "cell_type": "markdown",
   "id": "25e36549-ae79-4803-adac-7145fe592c6c",
   "metadata": {},
   "source": [
    "# How DCT and DST are Related to the DFT\n",
    "\n",
    "The math can be confusing, and the [scipy docs](https://docs.scipy.org/doc/scipy/reference/generated/scipy.fft.dst.html) can be especially confusing, so it's worth seeing **in code** *exactly* how the DCT and the DST can be formed out of a DFT (FFT). This gives a solid picture of what exactly $\\vec{Y}_{\\text{long}}$ and $\\vec{Y}_{\\text{short}}$ are and how they're related, which is important for their usage in this package.\n",
    "\n",
    "This is especially important if we start using [different variants](https://github.com/pavelkomarov/spectral-derivatives/blob/main/notebooks/dct_types.ipynb) due to the DCT-II's apparent better [energy compaction](https://dsp.stackexchange.com/questions/96172/why-does-the-dct-ii-have-better-energy-compaction-than-dct-i)."
   ]
  },
  {
   "cell_type": "code",
   "execution_count": 16,
   "id": "21b57e00-d7b0-452b-b631-337e741e6654",
   "metadata": {},
   "outputs": [],
   "source": [
    "import numpy as np\n",
    "from scipy.fft import dct, idct, dst, idst, fft, ifft"
   ]
  },
  {
   "cell_type": "markdown",
   "id": "6888f362-8d3b-4484-b399-ae90df3f68b7",
   "metadata": {},
   "source": [
    "First some vectors to transform. We'll use a real one and an imaginary one, pretending they correspond to some even or odd derivative, respectively."
   ]
  },
  {
   "cell_type": "code",
   "execution_count": 77,
   "id": "6683b647-004b-4919-a414-4fe3bc292dc0",
   "metadata": {},
   "outputs": [],
   "source": [
    "Y_re = np.array([3, 7, -1, 4]) # purely real\n",
    "Y_im = Y_re*1j # make it purely imaginary"
   ]
  },
  {
   "cell_type": "markdown",
   "id": "d061a357-09a5-443c-b3ae-63dcfa854a1f",
   "metadata": {},
   "source": [
    "## DCT-I\n",
    "\n",
    "$$\\begin{align}\n",
    "\\text{DCT-I}([Y_0, Y_1, ... Y_N]) &= \\text{FFT}([Y_0, Y_1, ... Y_{N-1}, Y_N, Y_{N-1}, ... Y_1])[:\\!N+1] \\\\\n",
    "&= M \\cdot \\text{IFFT}([Y_0, Y_1, ... Y_{N-1}, Y_N, Y_{N-1}, ... Y_{1}])[:\\!N+1]\\\\\n",
    "&= M \\cdot \\text{IDCT-I}([Y_0, Y_1, ... Y_N])\n",
    "\\end{align}\n",
    "$$\n",
    "\n",
    "The factor of $M$ appears because the inverse transform is normalized by the length of the input, $M = 2N$ in this case, so we have to unnormalize. The input to both the forward and inverse transforms can be the same, because the equality of $Y_k = Y_{M-k}$ means it doesn't matter which one multiplies the positive versus the negative exponential ($e^{\\pm jnk \\frac{2\\pi}{M}}$), which are flipped for forward versus inverse transform.\n",
    "\n",
    "This case occurs both when transforming to frequency domain using DCT-I and when transforming back from frequency domain for even-order derivatives."
   ]
  },
  {
   "cell_type": "code",
   "execution_count": 44,
   "id": "5b362596-2be0-4ecf-ace7-70af8ed52e68",
   "metadata": {},
   "outputs": [],
   "source": [
    "def dct_i_fft(Y):\n",
    "\tY_ext = np.concatenate((Y, Y[-2:0:-1])) # even extension, ordering not sensitive like the odd case\n",
    "\treturn fft(Y_ext)[:len(Y)]\n",
    "\n",
    "def dct_i_ifft(Y):\n",
    "\tY_ext = np.concatenate((Y, Y[-2:0:-1])) # even extension\n",
    "\treturn len(Y_ext)*ifft(Y_ext)[:len(Y)] # unnormalize inverse transform by multiplying by M = signal length\n",
    "\n",
    "def idct_i_ifft(Y):\n",
    "    Y_ext = np.concatenate((Y, Y[-2:0:-1]))\n",
    "    return ifft(Y_ext)[:len(Y)]\n",
    "\n",
    "assert np.all(np.abs(dct(Y_re, 1) - dct_i_fft(Y_re)) < 1e-10)\n",
    "assert np.all(np.abs(dct(Y_re, 1) - dct_i_ifft(Y_re)) < 1e-10)\n",
    "assert np.all(np.abs(idct(Y_re, 1) - idct_i_ifft(Y_re)) < 1e-10)"
   ]
  },
  {
   "cell_type": "markdown",
   "id": "64c469ae-e09b-4d5f-b0a9-e66edf140401",
   "metadata": {},
   "source": [
    "## DST-I\n",
    "\n",
    "$$\\begin{align}\n",
    "\\text{DST-I}(j \\cdot [Y_0, Y_1, ... Y_N]) &= \\text{FFT}([0, -Y_0, -Y_1, ... -Y_{N-1}, -Y_N, 0, Y_N, Y_{N-1}, ... Y_1])[1\\!:\\!N+2] \\\\\n",
    "&= M \\cdot \\text{IFFT}([0, Y_0, Y_1, ... Y_{N-1}, Y_N, 0, -Y_N, -Y_{N-1}, ... -Y_1])[1\\!:\\!N+2]\\\\\n",
    "&= M \\cdot \\text{IDST-I}([Y_0, Y_1, ... Y_N])\n",
    "\\end{align}\n",
    "$$\n",
    "\n",
    "The factor of $M$ appears because the inverse transform is normalized by the length of the input, $M = 2(N+1)$ in this case, so we have to unnormalize. Notice the addition of $0$s at the $1^{st}$ and $\\frac{M}{2}^{th}$ indices, which make the function odd. (It doesn't make sense to sine transform a not-odd thing, and the DST-I assumes the function is odd around whole-number indices ahead of and behind the current signal, which means there must be zero crossings there.) The input to forward and inverse transforms is *negated*, because $Y_k = -Y_{M-k}$, so it *does* matter which one multiplies the positive versus the negative exponential ($e^{\\pm jnk \\frac{2\\pi}{M}}$), which are flipped for forward versus inverse transform.\n",
    "\n",
    "This case occurs when transforming odd-order derivatives back from frequency domain."
   ]
  },
  {
   "cell_type": "code",
   "execution_count": 45,
   "id": "0ca3446f-b285-48b8-b1f1-75737390cce6",
   "metadata": {},
   "outputs": [],
   "source": [
    "def dst_i_fft(Y):\n",
    "\tY_ext = np.concatenate(([0], -Y, [0], Y[::-1])) # odd extension, with sign flip to account for fft rather than ifft\n",
    "\treturn fft(Y_ext)[1:1+len(Y)]\n",
    "\n",
    "def dst_i_ifft(Y):\n",
    "\tY_ext = np.concatenate(([0], Y, [0], -Y[::-1])) # odd extension, this time with expected signs\n",
    "\treturn len(Y_ext)*ifft(Y_ext)[1:1+len(Y)]\n",
    "\n",
    "def idst_i_ifft(Y):\n",
    "    Y_ext = np.concatenate(([0], Y, [0], -Y[::-1]))\n",
    "    return ifft(Y_ext)[1:1+len(Y)]\n",
    "\n",
    "assert np.all(np.abs(dst(1j*Y_im, 1) - dst_i_fft(Y_im)) < 1e-10)\n",
    "assert np.all(np.abs(dst(1j*Y_im, 1) - dst_i_ifft(Y_im)) < 1e-10)\n",
    "assert np.all(np.abs(idst(1j*Y_im, 1) - idst_i_ifft(Y_im)) < 1e-10)"
   ]
  },
  {
   "cell_type": "markdown",
   "id": "cc7d2d62-76c5-4c30-bf91-348cba1d2f1f",
   "metadata": {},
   "source": [
    "## DCT-II\n",
    "\n",
    "$$\\begin{align}\n",
    "\\text{DCT-II}([Y_0, Y_1, ... Y_N]) &= \\text{FFT}([0, Y_0, 0, Y_1, 0, ... Y_N, 0, Y_N, 0, Y_{N-1}, ... 0, Y_1])[:\\!N+1] \\\\\n",
    "&= M \\cdot \\text{IFFT}([0, Y_0, 0, Y_1, 0, ... Y_N, 0, Y_N, 0, Y_{N-1}, ... 0, Y_1])[:\\!N+1]\n",
    "\\end{align}\n",
    "$$\n",
    "\n",
    "For the DCT-II, the $\\vec{Y}_{\\text{long}}$ is effectively *spaced out*, with all its even-index terms set to zero. This is pretty convenient, because if we plug this in to the optimal interpolant equation, the DC and Nyquist terms disappear, leaving only the sum. This is a curious choice, but it [doesn't necessarily hurt performance](https://github.com/pavelkomarov/spectral-derivatives/blob/main/notebooks/dct_types.ipynb). In effect, instead of going up to wavenumber $N$, we pick every other wavenumber up to $2N$.\n",
    "\n",
    "Once again, we don't have to be careful about our extension when fed to FFT versus IFFT, because the evenness of $Y_k = Y_{M-k}$ means it doesn't matter which one multiplies the positive versus the negative exponential ($e^{\\pm jnk \\frac{2\\pi}{M}}$), which are flipped for forward versus inverse transform.\n",
    "\n",
    "Notice this time there is no relationship with IDCT-II, which is the DCT-III, because the DCT-II is not its own inverse, and the DCT-III implies a different $\\vec{Y}_{\\text{long}}$.\n",
    "\n",
    "This case is important for obtaining the frequency representation and for recovering even-order derivatives if we use the DCT-II as the forward transform."
   ]
  },
  {
   "cell_type": "code",
   "execution_count": 46,
   "id": "dccf33ac-9862-408c-b6b7-97d508a1c604",
   "metadata": {},
   "outputs": [],
   "source": [
    "def dct_ii_fft(Y):\n",
    "\tY_ext = np.concatenate((Y, Y[::-1])) # even extension\n",
    "\tY_spaced = [0 if i%2==0 else Y_ext[(i-1)//2] for i in range(4*len(Y))]\n",
    "\treturn fft(Y_spaced)[:len(Y)]\n",
    "\n",
    "def dct_ii_ifft(Y):\n",
    "\tY_ext = np.concatenate((Y, Y[::-1])) # even extension\n",
    "\tY_spaced = [0 if i%2==0 else Y_ext[(i-1)//2] for i in range(4*len(Y))]\n",
    "\treturn len(Y_spaced)*ifft(Y_spaced)[:len(Y)]\n",
    "\n",
    "assert np.all(np.abs(dct(Y_re, 2) - dct_ii_fft(Y_re)) < 1e-10)\n",
    "assert np.all(np.abs(dct(Y_re, 2) - dct_ii_ifft(Y_re)) < 1e-10)"
   ]
  },
  {
   "cell_type": "markdown",
   "id": "5734739d-6098-46c5-9e4c-dc2f372946c5",
   "metadata": {},
   "source": [
    "## DST-II\n",
    "\n",
    "$$\\begin{align}\n",
    "\\text{DST-II}([Y_0, Y_1, ... Y_N]) &= \\text{FFT}([0, -Y_0, 0, -Y_1, 0, ... -Y_N, 0, Y_N, 0, Y_{N-1}, ... 0, Y_1])[1\\!:\\!N+2] \\\\\n",
    "&= M \\cdot \\text{IFFT}([0, Y_0, 0, Y_1, 0, ... Y_N, 0, -Y_N, 0, -Y_{N-1}, ... 0, -Y_1])[1\\!:\\!N+2]\n",
    "\\end{align}\n",
    "$$\n",
    "\n",
    "Notice that for this case, as opposed to the DST-I case, we need not add extra $0$s to $\\vec{Y}_{\\text{long}}$. This is because the DST-II assumes oddness around half-indices above and below the ends of $\\vec{Y}_{\\text{short}}$, which correspond to the already-zeroed DC and Nyquist terms in $\\vec{Y}_{\\text{long}}$.\n",
    "\n",
    "This case is important because $\\text{IFFT}(\\vec{Y}_{\\text{long}})$ effectively occurs when taking odd-order derivatives with the DCT-II as the forward transform."
   ]
  },
  {
   "cell_type": "code",
   "execution_count": 51,
   "id": "1f4cb7f2-f919-4d88-aa52-acb63820db3f",
   "metadata": {},
   "outputs": [],
   "source": [
    "def dst_ii_fft(Y):\n",
    "\tY_ext = np.concatenate((-Y, Y[::-1])) # odd extension, with sign flip to account for fft rather than ifft\n",
    "\tY_spaced = [0 if i%2==0 else Y_ext[(i-1)//2] for i in range(4*len(Y))]\n",
    "\treturn fft(Y_spaced)[1:1+len(Y)]\n",
    "\n",
    "def dst_ii_ifft(Y):\n",
    "\tY_ext = np.concatenate((Y, -Y[::-1])) # odd extension, this time with expected signs.\n",
    "\tY_spaced = [0 if i%2==0 else Y_ext[(i-1)//2] for i in range(4*len(Y))]\n",
    "\treturn len(Y_spaced)*ifft(Y_spaced)[1:1+len(Y)]\n",
    "\n",
    "assert np.all(np.abs(dst(1j*Y_im, 2) - dst_ii_fft(Y_im)) < 1e-10)\n",
    "assert np.all(np.abs(dst(1j*Y_im, 2) - dst_ii_ifft(Y_im)) < 1e-10)"
   ]
  },
  {
   "cell_type": "code",
   "execution_count": 111,
   "id": "9375654b-04a5-4f60-9bbc-b5354ce66e1a",
   "metadata": {},
   "outputs": [
    {
     "name": "stdout",
     "output_type": "stream",
     "text": [
      "[ 0  1  2  3  4  5  6  7  0 -7 -6 -5 -4 -3 -2 -1]\n",
      "[ 26.        -0.j  -2.74444212+0.j  -4.24264069-0.j  11.85192125+0.j\n",
      "   0.        +0.j -11.85192125+0.j   4.24264069+0.j   2.74444212+0.j\n",
      " -26.        -0.j   2.74444212-0.j   4.24264069-0.j -11.85192125-0.j\n",
      "   0.        -0.j  11.85192125-0.j  -4.24264069+0.j  -2.74444212-0.j]\n",
      "[ 0. +0.j         -0. -2.74444212j  0. -8.48528137j  0.+35.55576376j\n",
      "  0. +0.j         -0.-59.25960627j  0.+25.45584412j  0.+19.21109486j\n",
      "  0. -0.j         -0.-19.21109486j -0.-25.45584412j  0.+59.25960627j\n",
      " -0. +0.j         -0.-35.55576376j  0. +8.48528137j  0. +2.74444212j]\n",
      "[  0.        +0.00000000e+00j   0.44974747-1.11022302e-16j\n",
      "  -2.19731957+0.00000000e+00j  -4.53553391-1.11022302e-16j\n",
      "  14.59636338+0.00000000e+00j  -1.53553391+1.11022302e-16j\n",
      " -10.68260094+0.00000000e+00j   3.44974747+1.11022302e-16j\n",
      "   0.        +0.00000000e+00j  -3.44974747-1.11022302e-16j\n",
      "  10.68260094+0.00000000e+00j   1.53553391-1.11022302e-16j\n",
      " -14.59636338+0.00000000e+00j   4.53553391+1.11022302e-16j\n",
      "   2.19731957+0.00000000e+00j  -0.44974747+1.11022302e-16j]\n",
      "[-0.+20.43810373j -0.-60.88232035j -0.+80.83241336j -0.-52.71803231j]\n"
     ]
    }
   ],
   "source": [
    "y = np.array([3, 1, 7, 2])\n",
    "N = len(y) - 1\n",
    "M = 4*len(y)\n",
    "\n",
    "# Forward and backward with DCT-II/III\n",
    "Y_short = dct(y)\n",
    "assert np.all(np.abs(dct(Y_short, 3)/(2*(N+1)) - y) < 1e-6)\n",
    "\n",
    "# Forward and backward with FFT\n",
    "y_ext = np.concatenate((y, y[::-1])) # even extension\n",
    "y_spaced = np.array([0 if i%2==0 else y_ext[(i-1)//2] for i in range(M)])\n",
    "Y_long = fft(y_spaced)\n",
    "assert np.all(np.abs(Y_long[:len(Y_short)] - Y_short) < 1e-6)\n",
    "assert np.all(np.abs(ifft(Y_long) - y_spaced) < 1e-6)\n",
    "\n",
    "\n",
    "k = np.concatenate((np.arange(M//2 + 1), np.arange(-M//2 + 1, 0)))\n",
    "k[M//2] = 0\n",
    "print(k)\n",
    "\n",
    "dY_long = (1j*k) * Y_long\n",
    "print(Y_long)\n",
    "print(dY_long)\n",
    "print(ifft(dY_long))\n"
   ]
  },
  {
   "cell_type": "code",
   "execution_count": null,
   "id": "d31cbf7c-ddd7-49dd-a640-8fabe2009e5f",
   "metadata": {},
   "outputs": [],
   "source": []
  }
 ],
 "metadata": {
  "kernelspec": {
   "display_name": "Python 3 (ipykernel)",
   "language": "python",
   "name": "python3"
  },
  "language_info": {
   "codemirror_mode": {
    "name": "ipython",
    "version": 3
   },
   "file_extension": ".py",
   "mimetype": "text/x-python",
   "name": "python",
   "nbconvert_exporter": "python",
   "pygments_lexer": "ipython3",
   "version": "3.13.1"
  }
 },
 "nbformat": 4,
 "nbformat_minor": 5
}
