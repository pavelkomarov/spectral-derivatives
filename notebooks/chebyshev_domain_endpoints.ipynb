{
 "cells": [
  {
   "cell_type": "markdown",
   "id": "ea4c1d08-c443-46c0-8c4b-00e149946f17",
   "metadata": {},
   "source": [
    "# Solving for the Chebyshev-Based Spectral Derivative at Domain Endpoints\n",
    "\n",
    "When solving for the Chebyshev-based derivative via detour to the Fourier basis, there is a major problem in the expanded, \"splintered\" expressions for $\\frac{d^\\nu}{dx^\\nu} y(\\theta)$: Factors in $x$ multiplying each $y{(\\nu)} = \\frac{d^\\nu}{d\\theta^\\nu}$ have multiples of $\\sqrt{1-x^2}$ in their denominators, making them undefined for $x = \\pm 1$. We can solve for the endpoints using a L'Hôpital's rule, but the answers are difficult to derive, especially for higher derivatives.\n",
    "\n",
    "I opened [Issue #1](https://github.com/pavelkomarov/spectral-derivatives/issues/1) to address the ugliness of this with a programmatic solution. An algorithm to derive the endpoint expressions turns out to be pretty challenging, not so easy to turn into compact code, and unfortunately relies on symbolic differentiation and simplification. As such, it has not been put in to the core library code. However, in case anyone should need to take a derivative beyond the $4^{th}$, this notebook implements a process to find the right expressions."
   ]
  },
  {
   "cell_type": "code",
   "execution_count": 1,
   "id": "b3ad31fc-0a0d-4d2a-bc5f-babc791f6070",
   "metadata": {},
   "outputs": [],
   "source": [
    "import sympy as sp\n",
    "from collections import defaultdict, deque\n",
    "from numpy.polynomial import Polynomial as poly"
   ]
  },
  {
   "cell_type": "code",
   "execution_count": 2,
   "id": "779038ba-1ef5-4a58-a1bd-205f22891917",
   "metadata": {},
   "outputs": [],
   "source": [
    "order = 11 # The order of derivative you want to work with"
   ]
  },
  {
   "cell_type": "markdown",
   "id": "972f648f-5a72-407c-bf21-fcdd124e6073",
   "metadata": {},
   "source": [
    "## Using $\\theta$ Instead of $x$\n",
    "\n",
    "$$ \\frac{d}{dx} y(\\theta) = \\frac{d}{d\\theta}y(\\theta) \\cdot \\frac{d\\theta}{dx}$$\n",
    "\n",
    "And then subsequent derivatives entail a product rule, which is how terms quickly proliferate. These derivatives are pretty ugly, because $\\frac{d\\theta}{dx} = \\frac{d}{dx}\\cos^{-1}(x) = \\frac{-1}{\\sqrt{1-x^2}}$. However, due to the relationship $x = \\cos(\\theta)$, $\\frac{-1}{\\sqrt{1-x^2}} = \\frac{-1}{\\sin(\\theta)}$. To avoid taking the limit of a quantity with multiple related variables, it's somewhat cleaner to put everything in terms of $\\theta$ and then apply L'Hôpital's rule by taking derivatives w.r.t. $\\theta$ rather than $x$. The two are equivalent; we end up with powers of $\\sin(\\theta)$ in the denominator, which is also stubbornly 0 at the endpoints ($\\theta = 0$ and $\\pi$)."
   ]
  },
  {
   "cell_type": "markdown",
   "id": "63e8b3b9-3a21-4517-95ae-26d913d4c612",
   "metadata": {},
   "source": [
    "## Finding the Denominator\n",
    "\n",
    "If we carry through with L'Hôpital's rule in variable $\\theta$, we see that after each differentation a $\\sin(\\theta)$ cancels with all the terms in the numerator, just like how when we do it in $x$ a $\\sqrt{1-x^2}$ cancels, and we can thereby, over the course of $\\nu$ applications of the rule, eliminate the troublesome $\\sin(\\theta)$s in the denominator.\n",
    "\n",
    "The denominator starts out $\\sin^{2\\nu-1}(\\theta)$ and gets changed simply as in the following loop:"
   ]
  },
  {
   "cell_type": "code",
   "execution_count": 3,
   "id": "8c78279b-986b-4be3-b672-a787e0343dd0",
   "metadata": {},
   "outputs": [
    {
     "name": "stdout",
     "output_type": "stream",
     "text": [
      "-151242416325*sin(th)**10*cos(th) + 2268636244875*sin(th)**8*cos(th)**3 - 6352181485650*sin(th)**6*cos(th)**5 + 4537272489750*sin(th)**4*cos(th)**7 - 756212081625*sin(th)**2*cos(th)**9 + 13749310575*cos(th)**11\n"
     ]
    }
   ],
   "source": [
    "th = sp.symbols('th')\n",
    "denom = sp.sin(th)**(2*order - 1)\n",
    "for i in range(order-1):\n",
    "\tdenom = sp.diff(denom, th)\n",
    "\tdenom = sp.cancel(denom/sp.sin(th))\n",
    "denom = sp.diff(denom, th)\n",
    "print(denom)"
   ]
  },
  {
   "cell_type": "markdown",
   "id": "08d2f9cd-d1f7-4ba9-9a83-28fbe315373b",
   "metadata": {},
   "source": [
    "We can now evaluate at the endpoints and get nonzero values. For even $\\nu$ the two endpoints have the same denominator; for odd $\\nu$ they are $\\pm$ each other."
   ]
  },
  {
   "cell_type": "code",
   "execution_count": 4,
   "id": "384a3852-80c3-4cec-8bd1-9723aabd9b5f",
   "metadata": {},
   "outputs": [
    {
     "name": "stdout",
     "output_type": "stream",
     "text": [
      "13749310575 -13749310575\n"
     ]
    }
   ],
   "source": [
    "D_0 = denom.subs(th, 0)\n",
    "D_pi = denom.subs(th, sp.pi)\n",
    "print(D_0, D_pi)"
   ]
  },
  {
   "cell_type": "markdown",
   "id": "e400b9d3-1323-4291-995c-425e296b5e5d",
   "metadata": {},
   "source": [
    "## Finding the Numerator Terms\n",
    "\n",
    "We can begin with the pyramid of terms built up for $\\frac{d^\\nu}{dx^\\nu} y(\\theta)$ as evaluated in the package."
   ]
  },
  {
   "cell_type": "code",
   "execution_count": 5,
   "id": "43685afc-7ad6-45b5-b830-28e8e35dfd1c",
   "metadata": {},
   "outputs": [],
   "source": [
    "# Calculate the polynomials in x necessary for transforming back to the Chebyshev domain\n",
    "numers = deque([poly([-1])]) # just -1 to start, at order 1\n",
    "denom = poly([1, 0, -1]) # 1 - x^2\n",
    "for nu in range(2, order + 1): # initialization takes care of order 1, so iterate from order 2\n",
    "\tq = 0\n",
    "\tfor mu in range(1, nu): # Terms come from the previous derivative, so there are nu - 1 of them here.\n",
    "\t\tp = numers.popleft() # c = nu - mu/2\n",
    "\t\tnumers.append(denom * p.deriv() + (nu - mu/2 - 1) * poly([0, 2]) * p - q)\n",
    "\t\tq = p\n",
    "\tnumers.append(-q)"
   ]
  },
  {
   "cell_type": "markdown",
   "id": "16295238-6da3-4003-ad72-818735c8c6dc",
   "metadata": {},
   "source": [
    "These are functions in $x$, but we can substitute to easily make them functions of $\\cos(\\theta)$, and then we can multipy by appropriate powers of $\\sin(\\theta)$ to put them all in the numerator of a single fraction."
   ]
  },
  {
   "cell_type": "code",
   "execution_count": 6,
   "id": "adc1e394-ec7e-4689-aa6f-a05d3ded309f",
   "metadata": {},
   "outputs": [],
   "source": [
    "exprs = deque()\n",
    "for mu,p in enumerate(numers):\n",
    "\texpr = 0\n",
    "\tfor r,c in enumerate(p.coef):\n",
    "\t\texpr += int(c) * sp.cos(th)**r\n",
    "\texpr *= sp.sin(th)**mu\n",
    "\texprs.append(expr)"
   ]
  },
  {
   "cell_type": "code",
   "execution_count": 7,
   "id": "0399c749-c525-4dc4-af5d-b3edc8e6f972",
   "metadata": {},
   "outputs": [
    {
     "name": "stdout",
     "output_type": "stream",
     "text": [
      "deque([-3628800*cos(th)**10 - 81648000*cos(th)**8 - 285768000*cos(th)**6 - 238140000*cos(th)**4 - 44651250*cos(th)**2 - 893025, (10628640*cos(th)**9 + 144666720*cos(th)**7 + 324389340*cos(th)**5 + 161191800*cos(th)**3 + 13852575*cos(th))*sin(th), (-12753576*cos(th)**8 - 107213436*cos(th)**6 - 149044896*cos(th)**4 - 40065696*cos(th)**2 - 1057221)*sin(th)**2, (8409500*cos(th)**7 + 43600260*cos(th)**5 + 35543805*cos(th)**3 + 4338235*cos(th))*sin(th)**3, (-3416930*cos(th)**6 - 10681275*cos(th)**4 - 4647885*cos(th)**2 - 172810)*sin(th)**4, (902055*cos(th)**5 + 1619310*cos(th)**3 + 316470*cos(th))*sin(th)**5, (-157773*cos(th)**4 - 148764*cos(th)**2 - 8778)*sin(th)**6, (18150*cos(th)**3 + 7590*cos(th))*sin(th)**7, (-1320*cos(th)**2 - 165)*sin(th)**8, 55*sin(th)**9*cos(th), -sin(th)**10])\n"
     ]
    }
   ],
   "source": [
    "print(exprs)"
   ]
  },
  {
   "cell_type": "markdown",
   "id": "2a16ebc6-ecc0-492c-97d5-c8e0741bb927",
   "metadata": {},
   "source": [
    "Now we note that these are multiplying subsequent orders of $y^{(\\mu)}(\\theta)$, so the full numerator looks like:\n",
    "\n",
    "$$a(\\theta)y'(\\theta) + b(\\theta)y''(\\theta) + ... z(\\theta)y^{(\\nu)}(\\theta)$$\n",
    "\n",
    "This situation will mean product rules as we take derivatives. Mildly gross, but like the pyramid scheme from before, each $y^{(\\mu)}(\\theta)$ depends only on two terms from the previous expression, so we can evaluate subsequent numerators actually pretty easily.\n",
    "\n",
    "For example:\n",
    "\n",
    "$$ay' + by'' + cy''' \\rightarrow a'y' + (a + b')y'' + (b + c')y''' + cy^{IV}$$\n",
    "\n",
    "We can line these up to see an obvious relationship of each new term to the one above and the one up-left-diagonal:\n",
    "\n",
    "$$\\begin{array}{c c c c}\n",
    "a & b & c \\\\\n",
    "a' & a+b' & b+c' & c\\\\\n",
    "\\end{array}$$\n",
    "\n",
    "Then before the next iteration of this process we divide by a $\\sin(\\theta)$ to cancel one from the denominator.\n",
    "\n",
    "We need to do this $\\nu$ times to get all the way up to the $(2\\nu)^{th}$ derivative before the denominator stops being 0. However, a beautiful thing happens to the numerator at the second-to-last of these additional iterations: All the terms involving even derivatives of $y(\\theta)$ cancel with themselves, and all the terms involving odd derivatives are multiplied by only *constant* factors. It's like a Law of Nature. This is necessary to fit the $\\frac{0}{0}$ indeterminate form one final time, because we've canceled so many $\\sin(\\theta)$ that there are no longer any left to multiply (and thereby zero out) the even-derivative terms (which would otherwise be nonzero) in the numerator. Then the last derivative entails no product rule, only shifts the constant coefficients of the odd derivatives to the next-highest even derivatives. So we can really stop the iteration one short, since all we need are those constants."
   ]
  },
  {
   "cell_type": "code",
   "execution_count": 8,
   "id": "5187447c-3c30-457d-95da-7ecb07fff02a",
   "metadata": {},
   "outputs": [
    {
     "name": "stdout",
     "output_type": "stream",
     "text": [
      "[-13168189440000, 0, -20407635072000, 0, -8689315795776, 0, -1593719752240, 0, -151847872396, 0, -8261931405, 0, -268880381, 0, -5293970, 0, -61446, 0, -385, 0, -1]\n"
     ]
    }
   ],
   "source": [
    "for nu in range(order + 1, 2*order): # iterate order-1 more times to reach the constants\n",
    "\tq = 0\n",
    "\tfor mu in range(1, nu): # Terms come from the previous derivative, so there are nu - 1 of them here.\n",
    "\t\tp = exprs.popleft()\n",
    "\t\tterm = q + sp.diff(p, th)\n",
    "\t\texprs.append(sp.cancel(term/sp.sin(th)))\n",
    "\t\tq = p\n",
    "\texprs.append(sp.cancel(q/sp.sin(th)))\n",
    "exprs = [expr.rewrite(sp.exp).simplify() for expr in exprs] # rewriting as exponentials before simplification helps sympy\n",
    "print(exprs)"
   ]
  },
  {
   "cell_type": "markdown",
   "id": "881da989-abfc-40ba-8879-4d23a25dfd13",
   "metadata": {},
   "source": [
    "Sympy can struggle if we're not careful here. See https://stackoverflow.com/questions/79404210/how-to-cancel-trigonometric-expressions-in-sympy"
   ]
  },
  {
   "cell_type": "code",
   "execution_count": 9,
   "id": "aff09be4-09b5-4083-83f9-4bdced6c4f32",
   "metadata": {},
   "outputs": [
    {
     "name": "stdout",
     "output_type": "stream",
     "text": [
      "[-13168189440000, -20407635072000, -8689315795776, -1593719752240, -151847872396, -8261931405, -268880381, -5293970, -61446, -385, -1]\n"
     ]
    }
   ],
   "source": [
    "C = [int(exprs[i]) for i in range(0, 2*order-1, 2)] # constants\n",
    "print(C)"
   ]
  },
  {
   "cell_type": "markdown",
   "id": "7ecddf16-42c2-4124-b472-3087f49aed9d",
   "metadata": {},
   "source": [
    "We can pick out that $y''(\\theta)$ needs to be multiplied by the first value, $y^{IV}(\\theta)$ by the second, and so on.\n",
    "\n",
    "## Putting it All Together\n",
    "\n",
    "If we use the DCT$^{-1}$ to reconstruct the first and last points, the answer will be:\n",
    "\n",
    "$$\n",
    "\\begin{align} \\frac{1}{D_0 M} \\Big((... - C_3 N^6 + C_2 N^4 - C_1 N^2) Y_N + 2 \\sum_{k=1}^{N-1} (... - C_3 k^6 + C_2 k^4 - C_1 k^2) Y_k \\Big) & \\text{ at } x=1, \\theta=0 \\\\ \\frac{1}{D_\\pi M} \\Big((... - C_3 N^6 + C_2 N^4 - C_1 N^2)(-1)^N Y_N + 2 \\sum_{k=1}^{N-1} (... - C_3 k^6 + C_2 k^4 - C_1 k^2) (-1)^k Y_k \\Big) & \\text{ at } x=-1, \\theta=\\pi \\end{align}\n",
    "$$\n",
    "\n",
    "Where the alternating plus and minus come from the fact the $2^{nd}$ derivative contains `-cos`, the $4^{th}$ `cos`, the $6^{th}$ `-cos` again, and so on.\n",
    "\n",
    "Let's make a code string that implements that, for the `order` given."
   ]
  },
  {
   "cell_type": "code",
   "execution_count": 10,
   "id": "30b1f4ae-5faa-41aa-aba1-b673761be529",
   "metadata": {},
   "outputs": [
    {
     "name": "stdout",
     "output_type": "stream",
     "text": [
      "dy_n[first] = np.sum((k**22 - 385*k**20 + 61446*k**18 - 5293970*k**16 + 268880381*k**14 - 8261931405*k**12 + 151847872396*k**10 - 1593719752240*k**8 + 8689315795776*k**6 - 20407635072000*k**4 + 13168189440000*k**2)[s] * Y_k[middle], axis=axis)/(13749310575*N) + N*(N**20 - 385*N**18 + 61446*N**16 - 5293970*N**14 + 268880381*N**12 - 8261931405*N**10 + 151847872396*N**8 - 1593719752240*N**6 + 8689315795776*N**4 - 20407635072000*N**2 + 13168189440000)/27498621150 * Y_k[last]\n",
      "dy_n[last] = np.sum(((k**22 - 385*k**20 + 61446*k**18 - 5293970*k**16 + 268880381*k**14 - 8261931405*k**12 + 151847872396*k**10 - 1593719752240*k**8 + 8689315795776*k**6 - 20407635072000*k**4 + 13168189440000*k**2)*np.power(-1, k))[s] * Y_k[middle], axis=axis)/(-13749310575*N) + (N*(N**20 - 385*N**18 + 61446*N**16 - 5293970*N**14 + 268880381*N**12 - 8261931405*N**10 + 151847872396*N**8 - 1593719752240*N**6 + 8689315795776*N**4 - 20407635072000*N**2 + 13168189440000)*(-1)**N)/-27498621150 * Y_k[last]\n"
     ]
    }
   ],
   "source": [
    "Ns = \"\".join((\" + \" if i % 2 else \" - \") + f\"{C[i]}\" + (f\"*N**{i*2}\" if i > 0 else \"\") for i in range(len(C)-1, -1, -1))\n",
    "ks = \"\".join((\" + \" if i % 2 else \" - \") + f\"{C[i]}\" + f\"*k**{(i+1)*2}\" for i in range(len(C)-1, -1, -1))\n",
    "d = {\"- -\":\"+ \", \"+ -\":\"- \", \" + 1*\":\"\", \" 1*\":\" \"}\n",
    "for k,v in d.items(): Ns = Ns.replace(k, v)\n",
    "for k,v in d.items(): ks = ks.replace(k, v)\n",
    "\n",
    "print(f\"dy_n[first] = np.sum(({ks})[s] * Y_k[middle], axis=axis)/({D_0}*N) + N*({Ns})/{2*D_0} * Y_k[last]\")\n",
    "print(f\"dy_n[last] = np.sum((({ks})*np.power(-1, k))[s] * Y_k[middle], axis=axis)/({D_pi}*N) + (N*({Ns})*(-1)**N)/{2*D_pi} * Y_k[last]\")"
   ]
  },
  {
   "cell_type": "markdown",
   "id": "13cc133d",
   "metadata": {},
   "source": [
    "\n",
    "\n",
    "## The Nightmare of Splintering in Higher Dimensions\n",
    "\n",
    "When reducing Chebyshev derivatives to Fourier ones, converting back to the Chebyshev domain is already pretty knotty in one dimension, because we have to keep all inverse transforms in $\\theta$ up to order $\\nu$ to compute the derivative of order $\\nu$ in $x$, but it turns out to be much worse in the simultaneous-multidimensional derivatives case, due to interactions. I'll demonstrate with the simplest possible case, $2^{nd}$ order in one dimension and $1^{st}$ order in another:\n",
    "\n",
    "\\begin{equation}\n",
    "\\frac{\\partial^3}{\\partial x_1^2 \\partial x_2} y(\\theta_1, \\theta_2) = \\frac{\\partial}{\\partial x_2} \\Big[ \\frac{\\partial^2}{\\partial x_1^2} y(\\theta_1, \\theta_2) \\Big]\n",
    "\\end{equation}\n",
    "\n",
    "Let's break this up and apply the [multivariable chain rule](https://math.libretexts.org/Bookshelves/Calculus/Calculus_(OpenStax)/14%3A_Differentiation_of_Functions_of_Several_Variables/14.05%3A_The_Chain_Rule_for_Multivariable_Functions) and product rule to just evaluate that inner portion first:\n",
    "\n",
    "\\begin{align*}\n",
    "\\frac{\\partial^2}{\\partial x_1^2} y(\\theta_1, \\theta_2) &= \\frac{\\partial}{\\partial x_1} \\Big( \\frac{\\partial}{\\partial \\theta_1} y \\cdot \\frac{d\\theta_1}{dx_1} + \\frac{\\partial}{\\partial \\theta_2} y \\cdot \\overset{\\text{\\normalsize 0}}{\\cancel{\\frac{d\\theta_2}{dx_1}}} \\Big) & \\text{multivariable chain rule}\\\\\n",
    "&= \\frac{\\partial}{\\partial \\theta_1} y \\cdot \\frac{d^2 \\theta_1}{dx_1^2} + \\frac{\\partial}{\\partial x_1}\\Big( \\frac{\\partial}{\\partial \\theta_1} y \\Big) \\cdot \\frac{d\\theta_1}{d x_1} & \\text{product rule}\\\\\n",
    "&= \\frac{\\partial}{\\partial \\theta_1} y \\cdot \\frac{d^2 \\theta_1}{dx_1^2} + \\Big( \\frac{\\partial^2}{\\partial \\theta_1^2} y \\cdot \\frac{d \\theta_1}{dx_1} + \\frac{\\partial^2}{\\partial \\theta_2 \\partial \\theta_1} y \\overset{\\text{\\normalsize 0}}{\\cancel{\\frac{d\\theta_2}{dx_1}}} \\Big) \\cdot \\frac{d\\theta_1}{d x_1} & \\text{multivariable chain rule}\\\\\n",
    "&= \\frac{\\partial}{\\partial \\theta_1} y \\cdot \\frac{d^2 \\theta_1}{dx_1^2} + \\frac{\\partial^2}{\\partial \\theta_1^2} y \\cdot \\Big( \\frac{d \\theta_1}{dx_1} \\Big)^2\n",
    "\\end{align*}\n",
    "\n",
    "Now using this to evaluate the minimal example:\n",
    "\n",
    "\\begin{align*}\n",
    "\\frac{\\partial^3}{\\partial x_1^2 \\partial x_2} y(\\theta_1, \\theta_2) =& \\frac{\\partial}{\\partial x_2} \\Big[ \\frac{\\partial}{\\partial \\theta_1} y \\cdot \\frac{d^2 \\theta_1}{dx_1^2} + \\frac{\\partial^2}{\\partial \\theta_1^2} y \\cdot \\Big( \\frac{d \\theta_1}{dx_1} \\Big)^2 \\Big]\\\\\n",
    "=& \\frac{\\partial}{\\partial \\theta_1} y \\cdot \\overset{\\text{\\normalsize 0}}{\\cancel{\\frac{\\partial}{\\partial x_2} \\frac{d^2 \\theta_1}{dx_1^2}}} + \\Big( \\frac{\\partial^2}{\\partial \\theta_1^2} y \\cdot \\overset{\\text{\\normalsize 0}}{\\cancel{\\frac{d\\theta_1}{dx_2}}} + \\frac{\\partial^2}{\\partial \\theta_1 \\partial \\theta_2} y \\cdot \\frac{d \\theta_2}{dx_2} \\Big) \\cdot \\frac{d^2\\theta_1}{dx_1^2} \\\\\n",
    "&+ \\frac{\\partial^2}{\\partial \\theta_1^2} y \\overset{\\text{\\normalsize 0}}{\\cancel{\\frac{\\partial}{\\partial x_2} \\Big( \\frac{d\\theta_1}{dx_1} \\Big)^2}} + \\Big( \\frac{\\partial^3}{\\partial \\theta_1^3} y \\cdot \\overset{\\text{\\normalsize 0}}{\\cancel{\\frac{d\\theta_1}{dx_2}}} + \\frac{\\partial^3}{\\partial \\theta_1^2 \\partial \\theta_2} y \\cdot \\frac{d \\theta_2}{dx_2} \\Big) \\cdot \\Big(\\frac{d\\theta_1}{dx_1}\\Big)^2 \\\\\n",
    "=& \\frac{\\partial^2}{\\partial \\theta_1 \\partial \\theta_2} y \\cdot \\frac{d \\theta_2}{dx_2} \\cdot \\frac{d^2\\theta_1}{dx_1^2} + \\frac{\\partial^3}{\\partial \\theta_1^2 \\partial \\theta_2} y \\cdot \\frac{d \\theta_2}{dx_2} \\cdot \\Big(\\frac{d\\theta_1}{dx_1}\\Big)^2\n",
    "\\end{align*}\n",
    "\n",
    "The double derivative in $x_1$ has *splintered* the expression into two, and then the single derivative in $x_2$ has interacted with *both those terms.\n",
    "\n",
    "All the terms that involve derivatives of a $\\theta$ w.r.t. an $x$ are ultimately just functions of $x$. In fact, $\\frac{d\\theta_2}{dx_2}$ is just our old friend $\\frac{-1}{\\sqrt{1-x_2^2}}$, and you can pick out $\\big( \\frac{d\\theta_1}{dx_1} \\big)^2$ and $\\frac{d^2\\theta_1}{dx_1^2}$ in the $\\frac{d^2}{dx^2} y(\\theta)$ equation. Together they are *a Cartesian product* of the the 1D case \"pyramid\"!\n",
    "\n",
    "Meanwhile, the $\\partial y$ terms have different orders, which means that to find them we need to multiply $Y$, the all-dimensions transform of $y$, by *different* orders of $jk$. If we do this carefully, the best-case scenario is that we incur [the same amount of work](https://github.com/pavelkomarov/spectral-derivatives/issues/2) as the in-series case, but it takes some extra bookkeeping and data copying.\n",
    "\n",
    "Even worse, at the *edges* of the domain we still need to use L'Hôpital's rule on an analytic expression to evaluate the limits of\\vspace{-2mm}\n",
    "\n",
    "$$\\frac{\\partial^{\\sum_i\\nu_i}}{\\partial x_1^{\\nu_1} ... \\partial x_D^{\\nu_D}} y(\\theta_1, ... \\theta_D)$$\n",
    "\n",
    "This is made more challenging by the fact our analytic reconstruction expression is based on the DCT-I$^{-1}$ or DCT-II$^{-1}$, which have terms outside the central sum, so as we substitute the DCT in to the DCT, we get ever more terms ($3^D$ of them for the DCT-I$^{-1}$ and $2^D$ of them for the DCT-II$^{-1}$), e.g.~in 2D the DCT-I$^{-1}$ is:\\vspace{-2mm}\n",
    "\n",
    "\\begin{align*}\n",
    "y(\\theta_1, \\theta_2) =& \\frac{1}{M^2} \\Big[ Y_{00} + Y_{N0}\\cos(N\\theta_1) + Y_{0N}\\cos(N\\theta_2) + Y_{NN}\\cos(N\\theta_1)\\cos(N\\theta_2)\\\\\n",
    "&+ 2\\sum_{k_1 = 1}^{N-1} Y_{k_1 0} \\cos(k_1 \\theta_1) + 2\\sum_{k_2 = 1}^{N-1} Y_{0 k_2} \\cos(k_2 \\theta_2) + 2\\cos(N\\theta_2) \\sum_{k_1 = 1}^{N-1} Y_{k_1 N} \\cos(k_1 \\theta_1)\\\\\n",
    "&+ 2\\cos(N\\theta_1) \\sum_{k_2 = 1}^{N-1} Y_{N k_2} \\cos(k_2 \\theta_2) + 4 \\sum_{k_1 = 1}^{N-1} \\sum_{k_2 = 1}^{N-1} Y_{k_1 k_2} \\cos(k_1 \\theta_1) \\cos(k_2 \\theta_2)\\Big]\n",
    "\\end{align*}\n",
    "\n",
    "We could generalize the original conception of the Chebyshev cosine series, which has a single sum with $a_0 = \\frac{Y_0}{M}, a_k = \\frac{2 Y_k}{M} \\text{ for } k \\in [1, N-1], a_N = \\frac{Y_N}{M}$, to get a $y(\\vec{\\theta})$ with only a single term, but this involves still more extra bookkeeping.\n",
    "\n",
    "Most gnarly, we then still have to take limits as different *combinations* of dimensions reach the edges, which becomes a combinatorial nightmare. This was already hard enough in 1D!\n",
    "\n",
    "So although `numpy` does provide the `fftn` function for transforming in multiple dimensions at once, and `scipy` provides similar `dctn` and `dstn` functions, they wouldn't confer a computational-complexity benefit and would require the math and code to get massively more complicated, so I have chosen not to use them."
   ]
  },
  {
   "cell_type": "markdown",
   "id": "9149f690",
   "metadata": {},
   "source": []
  }
 ],
 "metadata": {
  "kernelspec": {
   "display_name": "Python 3 (ipykernel)",
   "language": "python",
   "name": "python3"
  },
  "language_info": {
   "codemirror_mode": {
    "name": "ipython",
    "version": 3
   },
   "file_extension": ".py",
   "mimetype": "text/x-python",
   "name": "python",
   "nbconvert_exporter": "python",
   "pygments_lexer": "ipython3",
   "version": "3.13.2"
  }
 },
 "nbformat": 4,
 "nbformat_minor": 5
}
