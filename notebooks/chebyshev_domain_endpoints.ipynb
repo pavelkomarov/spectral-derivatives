{
 "cells": [
  {
   "cell_type": "markdown",
   "id": "ea4c1d08-c443-46c0-8c4b-00e149946f17",
   "metadata": {},
   "source": [
    "# Solving for the Chebyshev-Based Spectral Derivative at Domain Endpoints\n",
    "\n",
    "There is a major problem in the expanded, \"splintered\" expressions for $\\frac{d^\\nu}{dx^\\nu} y(\\theta)$: Factors in $x$ multiplying each $y{(\\nu)} = \\frac{d^\\nu}{d\\theta^\\nu}$ have multiples of $\\sqrt{1-x^2}$ in their denominators, making them undefined for $x = \\pm 1$. We can solve for the endpoints using a L'Hôpital's rule, but the answers are difficult to derive, especially for higher derivatives.\n",
    "\n",
    "I opened [Issue #1](https://github.com/pavelkomarov/spectral-derivatives/issues/1) to address the ugliness of this with a programmatic solution. An algorithm to derive the endpoint expressions turns out to be pretty challenging, not so easy to turn into compact code, and unfortunately relies on symbolic differentiation and simplification. As such, it has not been put in to the core library code. However, in case anyone should need to take a derivative beyond the $4^{th}$, this notebook implements a process to find the right expressions."
   ]
  },
  {
   "cell_type": "code",
   "execution_count": 1,
   "id": "b3ad31fc-0a0d-4d2a-bc5f-babc791f6070",
   "metadata": {},
   "outputs": [],
   "source": [
    "import sympy as sp\n",
    "from collections import defaultdict, deque\n",
    "from numpy.polynomial import Polynomial as poly"
   ]
  },
  {
   "cell_type": "code",
   "execution_count": 2,
   "id": "779038ba-1ef5-4a58-a1bd-205f22891917",
   "metadata": {},
   "outputs": [],
   "source": [
    "order = 4 # The order of derivative you want to work with"
   ]
  },
  {
   "cell_type": "markdown",
   "id": "972f648f-5a72-407c-bf21-fcdd124e6073",
   "metadata": {},
   "source": [
    "## Using $\\theta$ Instead of $x$\n",
    "\n",
    "$$ \\frac{d}{dx} y(\\theta) = \\frac{d}{d\\theta}y(\\theta) \\cdot \\frac{d\\theta}{dx}$$\n",
    "\n",
    "And then subsequent derivatives entail a product rule, which is how terms quickly proliferate. These derivatives are pretty ugly, because $\\frac{d\\theta}{dx} = \\frac{d}{dx}\\cos^{-1}(x) = \\frac{-1}{\\sqrt{1-x^2}}$. However, due to the relationship $x = \\cos(\\theta)$, $\\frac{-1}{\\sqrt{1-x^2}} = \\frac{-1}{\\sin(\\theta)}$. To avoid taking the limit of a quantity with multiple related variables, it's somewhat cleaner to put everything in terms of $\\theta$ and then apply L'Hôpital's rule by taking derivatives w.r.t. $\\theta$ rather than $x$. The two are equivalent; we end up with powers of $\\sin(\\theta)$ in the denominator, which is also stubbornly 0 at the endpoints ($\\theta = 0$ and $\\pi$)."
   ]
  },
  {
   "cell_type": "markdown",
   "id": "63e8b3b9-3a21-4517-95ae-26d913d4c612",
   "metadata": {},
   "source": [
    "## Finding the Denominator\n",
    "\n",
    "If we carry through with L'Hôpital's rule in variable $\\theta$, we see that after each differentation a $\\sin(\\theta)$ cancels with all the terms in the numerator, just like how when we do it in $x$ a $\\sqrt{1-x^2}$ cancels, and we can thereby, over the course of $\\nu$ applications of the rule, eliminate the troublesome $\\sin(\\theta)$s in the denominator.\n",
    "\n",
    "The denominator starts out $\\sin^{2\\nu-1}(\\theta)$ and gets changed simply as in the following loop:"
   ]
  },
  {
   "cell_type": "code",
   "execution_count": 3,
   "id": "8c78279b-986b-4be3-b672-a787e0343dd0",
   "metadata": {},
   "outputs": [],
   "source": [
    "th = sp.symbols('th')\n",
    "denom = sp.sin(th)**(2*order - 1)\n",
    "for i in range(order-1):\n",
    "\tdenom = sp.diff(denom, th)\n",
    "\tdenom = sp.cancel(denom/sp.sin(th))\n",
    "denom = sp.diff(denom, th).trigsimp()"
   ]
  },
  {
   "cell_type": "markdown",
   "id": "08d2f9cd-d1f7-4ba9-9a83-28fbe315373b",
   "metadata": {},
   "source": [
    "We can now evaluate at the endpoints and get nonzero values. For even $\\nu$ the two endpoints have the same denominator; for odd $\\nu$ they are $\\pm$ each other."
   ]
  },
  {
   "cell_type": "code",
   "execution_count": 4,
   "id": "384a3852-80c3-4cec-8bd1-9723aabd9b5f",
   "metadata": {},
   "outputs": [
    {
     "name": "stdout",
     "output_type": "stream",
     "text": [
      "105 105\n"
     ]
    }
   ],
   "source": [
    "D_0 = denom.subs(th, 0)\n",
    "D_pi = denom.subs(th, sp.pi)\n",
    "print(D_0, D_pi)"
   ]
  },
  {
   "cell_type": "markdown",
   "id": "e400b9d3-1323-4291-995c-425e296b5e5d",
   "metadata": {},
   "source": [
    "## Finding the Numerator Terms\n",
    "\n",
    "We can begin with the pyramid of terms built up for $\\frac{d^\\nu}{dx^\\nu} y(\\theta)$ as evaluated in the package."
   ]
  },
  {
   "cell_type": "code",
   "execution_count": 5,
   "id": "43685afc-7ad6-45b5-b830-28e8e35dfd1c",
   "metadata": {},
   "outputs": [],
   "source": [
    "# Calculate the polynomials in x necessary for transforming back to the Chebyshev domain\n",
    "numers = deque([poly([-1])]) # just -1 to start, at order 1\n",
    "denom = poly([1, 0, -1]) # 1 - x^2\n",
    "for nu in range(2, order + 1): # initialization takes care of order 1, so iterate from order 2\n",
    "\tq = 0\n",
    "\tfor mu in range(1, nu): # Terms come from the previous derivative, so there are nu - 1 of them here.\n",
    "\t\tp = numers.popleft() # c = nu - mu/2\n",
    "\t\tnumers.append(denom * p.deriv() + (nu - mu/2 - 1) * poly([0, 2]) * p - q)\n",
    "\t\tq = p\n",
    "\tnumers.append(-q)"
   ]
  },
  {
   "cell_type": "markdown",
   "id": "16295238-6da3-4003-ad72-818735c8c6dc",
   "metadata": {},
   "source": [
    "These are functions in $x$, but we can substitute to easily make them functions of $\\cos(\\theta)$, and then we can multipy by appropriate powers of $\\sin(\\theta)$ to put them all in the numerator of a single fraction."
   ]
  },
  {
   "cell_type": "code",
   "execution_count": 6,
   "id": "adc1e394-ec7e-4689-aa6f-a05d3ded309f",
   "metadata": {},
   "outputs": [],
   "source": [
    "exprs = deque()\n",
    "for mu,p in enumerate(numers):\n",
    "\texpr = 0\n",
    "\tfor r,c in enumerate(p.coef):\n",
    "\t\texpr += c * sp.cos(th)**r\n",
    "\texpr *= sp.sin(th)**mu\n",
    "\texprs.append(expr)"
   ]
  },
  {
   "cell_type": "code",
   "execution_count": 7,
   "id": "0399c749-c525-4dc4-af5d-b3edc8e6f972",
   "metadata": {},
   "outputs": [
    {
     "name": "stdout",
     "output_type": "stream",
     "text": [
      "deque([-6.0*cos(th)**3 - 9.0*cos(th), (11.0*cos(th)**2 + 4.0)*sin(th), -6.0*sin(th)**2*cos(th), 1.0*sin(th)**3])\n"
     ]
    }
   ],
   "source": [
    "print(exprs)"
   ]
  },
  {
   "cell_type": "markdown",
   "id": "2a16ebc6-ecc0-492c-97d5-c8e0741bb927",
   "metadata": {},
   "source": [
    "Now we note that these are multiplying subsequent orders of $y^{(\\mu)}(\\theta)$, so the full numerator looks like:\n",
    "\n",
    "$$a(\\theta)y'(\\theta) + b(\\theta)y''(\\theta) + ... z(\\theta)y^{(\\nu)}(\\theta)$$\n",
    "\n",
    "This situation will mean product rules as we take derivatives. Mildly gross, but like the pyramid scheme from before, each $y^{(\\mu)}(\\theta)$ depends only on two terms from the previous expression, so we can evaluate subsequent numerators actually pretty easily.\n",
    "\n",
    "For example:\n",
    "\n",
    "$$ay' + by'' + cy''' \\rightarrow a'y' + (a + b')y'' + (b + c')y''' + cy^{IV}$$\n",
    "\n",
    "We can line these up to see an obvious relationship of each new term to the one above and the one up-left-diagonal:\n",
    "\n",
    "$$\\begin{array}{c c c c}\n",
    "a & b & c \\\\\n",
    "a' & a+b' & b+c' & c\\\\\n",
    "\\end{array}$$\n",
    "\n",
    "Then before the next iteration of this process we divide by a $\\sin(\\theta)$ to cancel one from the denominator.\n",
    "\n",
    "We need to do this $\\nu$ times to get all the way up to the $(2\\nu)^{th}$ derivative before the denominator stops being 0. However, a beautiful thing happens to the numerator at the second-to-last of these additional iterations: All the terms involving even derivatives of $y(\\theta)$ cancel out, and all the terms involving odd derivatives are multiplied by only *constant* factors. It's like a Law of Nature, and I'm not sure exactly why. Then the last derivative entails no product rule, only shifts the constant coefficients of the odd derivatives to the next-highest even derivatives. So we can really stop the iteration one short."
   ]
  },
  {
   "cell_type": "code",
   "execution_count": 8,
   "id": "5187447c-3c30-457d-95da-7ecb07fff02a",
   "metadata": {},
   "outputs": [
    {
     "name": "stdout",
     "output_type": "stream",
     "text": [
      "5 deque([18.0*cos(th)**2 + 9.0, -13.5*sin(2*th), 7.0*sin(th)**2 + 3.0, -1.5*sin(2*th), 1.0*sin(th)**2])\n",
      "6 deque([-36.0*cos(th), 36.0*sin(th), -13.0*cos(th), 13.0*sin(th), -1.0*cos(th), 1.0*sin(th)])\n",
      "7 deque([36.0000000000000, 0, 49.0000000000000, 0, 14.0000000000000, 0, 1.00000000000000])\n"
     ]
    }
   ],
   "source": [
    "for nu in range(order + 1, 2*order): # iterate order-1 more times to reach the constants\n",
    "\tq = 0\n",
    "\tfor mu in range(1, nu): # Terms come from the previous derivative, so there are nu - 1 of them here.\n",
    "\t\tp = exprs.popleft()\n",
    "\t\tterm = (q + sp.diff(p, th)).simplify()\n",
    "\t\tterm = sp.cancel(term/sp.sin(th)).trigsimp()\n",
    "\t\texprs.append(term)\n",
    "\t\tq = p\n",
    "\texprs.append(sp.cancel(q/sp.sin(th)).trigsimp())\n",
    "\tprint(nu, exprs)"
   ]
  },
  {
   "cell_type": "code",
   "execution_count": 9,
   "id": "aff09be4-09b5-4083-83f9-4bdced6c4f32",
   "metadata": {},
   "outputs": [
    {
     "name": "stdout",
     "output_type": "stream",
     "text": [
      "[36, 49, 14, 1]\n"
     ]
    }
   ],
   "source": [
    "C = [round(exprs[i]) for i in range(0, 2*order-1, 2)] # constants\n",
    "print(C)"
   ]
  },
  {
   "cell_type": "markdown",
   "id": "7ecddf16-42c2-4124-b472-3087f49aed9d",
   "metadata": {},
   "source": [
    "We can pick out that $y''(\\theta)$ needs to be multiplied by the first value, $y^{IV}(\\theta)$ by the second, and so on.\n",
    "\n",
    "## Putting it All Together\n",
    "\n",
    "If we use the DCT$^{-1}$ to reconstruct the first and last points, the answer will be:\n",
    "\n",
    "$$\n",
    "\\begin{align} \\frac{1}{D_0 M} \\Big((... - C_3 N^6 + C_2 N^4 - C_1 N^2) Y_N + 2 \\sum_{k=1}^{N-1} (... - C_3 k^6 + C_2 k^4 - C_1 k^2) Y_k \\Big) & \\text{ at } x=1, \\theta=0 \\\\ \\frac{1}{D_\\pi M} \\Big((... - C_3 N^6 + C_2 N^4 - C_1 N^2)(-1)^N Y_N + 2 \\sum_{k=1}^{N-1} (... - C_3 k^6 + C_2 k^4 - C_1 k^2) (-1)^k Y_k \\Big) & \\text{ at } x=-1, \\theta=\\pi \\end{align}\n",
    "$$\n",
    "\n",
    "Where the alternating plus and minus come from the fact the $2^{nd}$ derivative contains `-cos`, the $4^{th}$ `cos`, the $6^{th}$ `-cos` again, and so on.\n",
    "\n",
    "Let's make a code string that implements that, for the `order` given."
   ]
  },
  {
   "cell_type": "code",
   "execution_count": 10,
   "id": "30b1f4ae-5faa-41aa-aba1-b673761be529",
   "metadata": {},
   "outputs": [
    {
     "name": "stdout",
     "output_type": "stream",
     "text": [
      "dy_n[first] = np.sum((k**8 - 14*k**6 + 49*k**4 - 36*k**2)[s] * Y_k[middle], axis=axis)/(105*N) + N*(N**6 - 14*N**4 + 49*N**2 - 36)/210 * Y_k[last]\n",
      "dy_n[last] = np.sum(((k**8 - 14*k**6 + 49*k**4 - 36*k**2)*np.power(-1, k))[s] * Y_k[middle], axis=axis)/(105*N) + (N*(N**6 - 14*N**4 + 49*N**2 - 36)*(-1)**N)/210 * Y_k[last]\n"
     ]
    }
   ],
   "source": [
    "Ns = \"\".join((\" + \" if i % 2 else \" - \") + f\"{C[i]}\" + (f\"*N**{i*2}\" if i > 0 else \"\") for i in range(len(C)-1, -1, -1))\n",
    "ks = \"\".join((\" + \" if i % 2 else \" - \") + f\"{C[i]}\" + f\"*k**{(i+1)*2}\" for i in range(len(C)-1, -1, -1))\n",
    "d = {\"- -\":\"+ \", \"+ -\":\"- \", \" + 1*\":\"\", \" 1*\":\" \"}\n",
    "for k,v in d.items(): Ns = Ns.replace(k, v)\n",
    "for k,v in d.items(): ks = ks.replace(k, v)\n",
    "\n",
    "print(f\"dy_n[first] = np.sum(({ks})[s] * Y_k[middle], axis=axis)/({D_0}*N) + N*({Ns})/{2*D_0} * Y_k[last]\")\n",
    "print(f\"dy_n[last] = np.sum((({ks})*np.power(-1, k))[s] * Y_k[middle], axis=axis)/({D_pi}*N) + (N*({Ns})*(-1)**N)/{2*D_pi} * Y_k[last]\")"
   ]
  }
 ],
 "metadata": {
  "kernelspec": {
   "display_name": "Python 3 (ipykernel)",
   "language": "python",
   "name": "python3"
  },
  "language_info": {
   "codemirror_mode": {
    "name": "ipython",
    "version": 3
   },
   "file_extension": ".py",
   "mimetype": "text/x-python",
   "name": "python",
   "nbconvert_exporter": "python",
   "pygments_lexer": "ipython3",
   "version": "3.13.1"
  }
 },
 "nbformat": 4,
 "nbformat_minor": 5
}
