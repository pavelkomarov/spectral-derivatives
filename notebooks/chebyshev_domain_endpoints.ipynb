{
 "cells": [
  {
   "cell_type": "markdown",
   "id": "ea4c1d08-c443-46c0-8c4b-00e149946f17",
   "metadata": {},
   "source": [
    "# Solving for the Chebyshev-Based Spectral Derivative at Domain Endpoints\n",
    "\n",
    "There is a major problem in the expanded, \"splintered\" expressions for $\\frac{d^\\nu}{dx^\\nu} y(\\theta)$: Factors in $x$ multiplying each $y{(\\nu)} = \\frac{d^\\nu}{d\\theta^\\nu}$ have multiples of $\\sqrt{1-x^2}$ in their denominators, making them undefined for $x = \\pm 1$. We can solve for the endpoints using a L'Hôpital's rule, but the answers are difficult to derive, especially for higher derivatives.\n",
    "\n",
    "I opened [Issue #1](https://github.com/pavelkomarov/spectral-derivatives/issues/1) to address the ugliness of this with a programmatic solution. An algorithm to derive the endpoint expressions turns out to be pretty challenging, not so easy to turn into compact code, and unfortunately relies on symbolic differentiation and simplification. As such, it has not been put in to the core library code. However, in case anyone should need to take a derivative beyond the $4^{th}$, this notebook implements a process to find the right expressions."
   ]
  },
  {
   "cell_type": "code",
   "execution_count": 1,
   "id": "b3ad31fc-0a0d-4d2a-bc5f-babc791f6070",
   "metadata": {},
   "outputs": [],
   "source": [
    "import sympy as sp\n",
    "from collections import defaultdict, deque\n",
    "from numpy.polynomial import Polynomial as poly"
   ]
  },
  {
   "cell_type": "code",
   "execution_count": 2,
   "id": "779038ba-1ef5-4a58-a1bd-205f22891917",
   "metadata": {},
   "outputs": [],
   "source": [
    "nu = 5 # The order of derivative you want to work with"
   ]
  },
  {
   "cell_type": "markdown",
   "id": "972f648f-5a72-407c-bf21-fcdd124e6073",
   "metadata": {},
   "source": [
    "## Using $\\theta$ Instead of $x$\n",
    "\n",
    "$$ \\frac{d}{dx} y(\\theta) = \\frac{d}{d\\theta}y(\\theta) \\cdot \\frac{d\\theta}{dx}$$\n",
    "\n",
    "And then subsequent derivatives entail a product rule, which is how terms quickly proliferate. These derivatives are pretty ugly, because $\\frac{d\\theta}{dx} = \\frac{d}{dx}\\cos^{-1}(x) = \\frac{-1}{\\sqrt{1-x^2}}$. However, due to the relationship $x = \\cos(\\theta)$, $\\frac{-1}{\\sqrt{1-x^2}} = \\frac{-1}{\\sin(\\theta)}$. To avoid taking the limit of a quantity with multiple related variables, it's somewhat cleaner to put everything in terms of $\\theta$ and then apply L'Hôpital's rule by taking derivatives w.r.t. $\\theta$ rather than $x$. The two are equivalent; we end up with powers of $\\sin(\\theta)$ in the denominator, which is also stubbornly 0 at the endpoints ($\\theta = 0$ and $\\pi$)."
   ]
  },
  {
   "cell_type": "markdown",
   "id": "63e8b3b9-3a21-4517-95ae-26d913d4c612",
   "metadata": {},
   "source": [
    "## Finding the Denominator\n",
    "\n",
    "If we carry through with L'Hôpital's rule in variable $\\theta$, we see that after each differentation a $\\sin(\\theta)$ cancels with all the terms in the numerator, just like how when we do it in $x$ a $\\sqrt{1-x^2}$ cancels, and we can thereby, over the course of $\\nu$ applications of the rule, eliminate the troublesome $\\sin(\\theta)$s in the denominator.\n",
    "\n",
    "The denominator starts out $\\sin^{2\\nu-1}(\\theta)$ and gets changed simply as in the following loop:"
   ]
  },
  {
   "cell_type": "code",
   "execution_count": 4,
   "id": "8c78279b-986b-4be3-b672-a787e0343dd0",
   "metadata": {},
   "outputs": [],
   "source": [
    "th = sp.symbols('th')\n",
    "denom = sp.sin(th)**(2*nu - 1)\n",
    "for i in range(nu-1):\n",
    "\tdenom = sp.diff(denom, th)\n",
    "\tdenom = sp.cancel(denom/sp.sin(th))\n",
    "denom = sp.diff(denom, th).trigsimp()"
   ]
  },
  {
   "cell_type": "markdown",
   "id": "08d2f9cd-d1f7-4ba9-9a83-28fbe315373b",
   "metadata": {},
   "source": [
    "We can now evaluate at the endpoints and get nonzero values. For even $\\nu$ the two endpoints have the same denominator; for odd $\\nu$ they are $\\pm$ each other."
   ]
  },
  {
   "cell_type": "code",
   "execution_count": 6,
   "id": "384a3852-80c3-4cec-8bd1-9723aabd9b5f",
   "metadata": {},
   "outputs": [
    {
     "name": "stdout",
     "output_type": "stream",
     "text": [
      "945 -945\n"
     ]
    }
   ],
   "source": [
    "denom_0 = denom.subs(th, 0)\n",
    "denom_pi = denom.subs(th, sp.pi)\n",
    "print(denom_0, denom_pi)"
   ]
  },
  {
   "cell_type": "markdown",
   "id": "e400b9d3-1323-4291-995c-425e296b5e5d",
   "metadata": {},
   "source": [
    "## Finding the Numerator Terms\n",
    "\n",
    "We can begin with the pyramid of terms built up for $\\frac{d^\\nu}{dx^\\nu} y(\\theta)$ as evaluated in the package."
   ]
  },
  {
   "cell_type": "code",
   "execution_count": 22,
   "id": "43685afc-7ad6-45b5-b830-28e8e35dfd1c",
   "metadata": {},
   "outputs": [],
   "source": [
    "# Calculate the polynomials in x necessary for transforming back to the Chebyshev domain\n",
    "numers = deque([poly([-1])]) # just -1 to start, at order 1\n",
    "denom = poly([1, 0, -1]) # 1 - x^2\n",
    "for nu in range(2, nu + 1): # initialization takes care of order 1, so iterate from order 2\n",
    "    q = 0\n",
    "    for mu in range(1, nu): # Terms come from the previous derivative, so there are nu - 1 of them here.\n",
    "        p = numers.popleft() # c = nu - mu/2\n",
    "        numers.append(denom * p.deriv() + (nu - mu/2 - 1) * poly([0, 2]) * p - q)\n",
    "        q = p\n",
    "    numers.append(-q)"
   ]
  },
  {
   "cell_type": "markdown",
   "id": "16295238-6da3-4003-ad72-818735c8c6dc",
   "metadata": {},
   "source": [
    "These are functions in $x$, but we can substitute to easily make them functions of $\\cos(\\theta)$, and then we can multipy by appropriate powers of $\\sin(\\theta)$ to put them all in the numerator of a single fraction."
   ]
  },
  {
   "cell_type": "code",
   "execution_count": 23,
   "id": "adc1e394-ec7e-4689-aa6f-a05d3ded309f",
   "metadata": {},
   "outputs": [],
   "source": [
    "exprs = deque()\n",
    "for mu,p in enumerate(numers):\n",
    "    expr = 0\n",
    "    for r,c in enumerate(p.coef):\n",
    "        expr += c * sp.cos(th)**r\n",
    "    expr *= sp.sin(th)**mu\n",
    "    exprs.append(expr)"
   ]
  },
  {
   "cell_type": "code",
   "execution_count": 24,
   "id": "0399c749-c525-4dc4-af5d-b3edc8e6f972",
   "metadata": {},
   "outputs": [
    {
     "name": "stdout",
     "output_type": "stream",
     "text": [
      "deque([-24.0*cos(th)**4 - 72.0*cos(th)**2 - 9.0, (50.0*cos(th)**3 + 55.0*cos(th))*sin(th), (-35.0*cos(th)**2 - 10.0)*sin(th)**2, 10.0*sin(th)**3*cos(th), -1.0*sin(th)**4])\n"
     ]
    }
   ],
   "source": [
    "print(exprs)"
   ]
  },
  {
   "cell_type": "markdown",
   "id": "2a16ebc6-ecc0-492c-97d5-c8e0741bb927",
   "metadata": {},
   "source": [
    "Now we note that these are multiplying subsequent orders of $y^{(\\mu)}(\\theta)$, so the full numerator looks like:\n",
    "\n",
    "$$a(\\theta)y'(\\theta) + b(\\theta)y''(\\theta) + ... z(\\theta)y^{(\\nu)}(\\theta)$$\n",
    "\n",
    "This situation will mean product rules as we take derivatives. Mildly gross, but like the pyramid scheme from before, each $y^{(\\mu)}(\\theta)$ depends only on two terms from the previous expression, so we can evaluate subsequent numerators actually pretty easily."
   ]
  },
  {
   "cell_type": "code",
   "execution_count": null,
   "id": "5187447c-3c30-457d-95da-7ecb07fff02a",
   "metadata": {},
   "outputs": [],
   "source": [
    "for mu in range(2, nu + 1): # initialization takes care of order 1, so iterate from order 2\n",
    "\tq = 0\n",
    "\tfor term in range(1, mu): # Terms come from the previous derivative, so there are mu - 1 of them here.\n",
    "\t\tp = numers.popleft() # c = mu - term/2\n",
    "\t\tnumers.append(denom * p.deriv() + (mu - term/2 - 1) * poly([0, 2]) * p - q)\n",
    "\t\tq = p\n",
    "\tnumers.append(-q)"
   ]
  }
 ],
 "metadata": {
  "kernelspec": {
   "display_name": "Python 3 (ipykernel)",
   "language": "python",
   "name": "python3"
  },
  "language_info": {
   "codemirror_mode": {
    "name": "ipython",
    "version": 3
   },
   "file_extension": ".py",
   "mimetype": "text/x-python",
   "name": "python",
   "nbconvert_exporter": "python",
   "pygments_lexer": "ipython3",
   "version": "3.13.1"
  }
 },
 "nbformat": 4,
 "nbformat_minor": 5
}
